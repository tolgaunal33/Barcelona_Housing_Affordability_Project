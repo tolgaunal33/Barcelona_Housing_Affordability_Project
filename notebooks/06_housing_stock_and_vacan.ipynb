{
 "cells": [
  {
   "cell_type": "code",
   "execution_count": 7,
   "metadata": {},
   "outputs": [],
   "source": [
    "import requests\n",
    "import pandas as pd\n",
    "from io import StringIO\n",
    "\n",
    "# API URL ve Client ID\n",
    "url = \"https://portaldades.ajuntament.barcelona.cat/services/backend/rest/statistic/export?id=oy5zjitsmn&fileformat=CSV\"\n",
    "headers = {\"X-IBM-Client-Id\": \"f943a426a663183091a1401f55eec60d\"}\n",
    "\n",
    "# API'den veriyi çek\n",
    "response = requests.get(url, headers=headers)"
   ]
  },
  {
   "cell_type": "code",
   "execution_count": 8,
   "metadata": {},
   "outputs": [],
   "source": [
    "if response.status_code == 200:\n",
    "    # Veriyi StringIO ile oku\n",
    "    data = StringIO(response.content.decode('latin1'))\n",
    "    df_housing = pd.read_csv(data, sep=',', encoding='latin1')  # SEP = ','\n",
    "else:\n",
    "    print(f\"Veri çekilemedi! Status code: {response.status_code}\")"
   ]
  },
  {
   "cell_type": "code",
   "execution_count": 9,
   "metadata": {},
   "outputs": [
    {
     "data": {
      "text/html": [
       "<div>\n",
       "<style scoped>\n",
       "    .dataframe tbody tr th:only-of-type {\n",
       "        vertical-align: middle;\n",
       "    }\n",
       "\n",
       "    .dataframe tbody tr th {\n",
       "        vertical-align: top;\n",
       "    }\n",
       "\n",
       "    .dataframe thead th {\n",
       "        text-align: right;\n",
       "    }\n",
       "</style>\n",
       "<table border=\"1\" class=\"dataframe\">\n",
       "  <thead>\n",
       "    <tr style=\"text-align: right;\">\n",
       "      <th></th>\n",
       "      <th>Dim-00:TEMPS</th>\n",
       "      <th>Dim-01:TERRITORI</th>\n",
       "      <th>Dim-01:TERRITORI (order)</th>\n",
       "      <th>Dim-01:TERRITORI (type)</th>\n",
       "      <th>Dim-02:ÃS I DESTINACIÃ PRINCIPAL</th>\n",
       "      <th>VALUE</th>\n",
       "    </tr>\n",
       "  </thead>\n",
       "  <tbody>\n",
       "    <tr>\n",
       "      <th>0</th>\n",
       "      <td>2009-01-01T00:00:00Z</td>\n",
       "      <td>el Coll</td>\n",
       "      <td>29</td>\n",
       "      <td>Barri</td>\n",
       "      <td>Ensenyament i cultura</td>\n",
       "      <td>29.0</td>\n",
       "    </tr>\n",
       "    <tr>\n",
       "      <th>1</th>\n",
       "      <td>2009-01-01T00:00:00Z</td>\n",
       "      <td>el Carmel</td>\n",
       "      <td>37</td>\n",
       "      <td>Barri</td>\n",
       "      <td>Oficines</td>\n",
       "      <td>77.0</td>\n",
       "    </tr>\n",
       "    <tr>\n",
       "      <th>2</th>\n",
       "      <td>2009-01-01T00:00:00Z</td>\n",
       "      <td>la Marina de Port</td>\n",
       "      <td>13</td>\n",
       "      <td>Barri</td>\n",
       "      <td>Altres</td>\n",
       "      <td>12.0</td>\n",
       "    </tr>\n",
       "    <tr>\n",
       "      <th>3</th>\n",
       "      <td>2009-01-01T00:00:00Z</td>\n",
       "      <td>el Parc i la Llacuna del Poblenou</td>\n",
       "      <td>66</td>\n",
       "      <td>Barri</td>\n",
       "      <td>Habitatge</td>\n",
       "      <td>6434.0</td>\n",
       "    </tr>\n",
       "    <tr>\n",
       "      <th>4</th>\n",
       "      <td>2009-01-01T00:00:00Z</td>\n",
       "      <td>la Font de la Guatlla</td>\n",
       "      <td>14</td>\n",
       "      <td>Barri</td>\n",
       "      <td>Esportiu</td>\n",
       "      <td>6.0</td>\n",
       "    </tr>\n",
       "  </tbody>\n",
       "</table>\n",
       "</div>"
      ],
      "text/plain": [
       "           Dim-00:TEMPS                   Dim-01:TERRITORI  \\\n",
       "0  2009-01-01T00:00:00Z                            el Coll   \n",
       "1  2009-01-01T00:00:00Z                          el Carmel   \n",
       "2  2009-01-01T00:00:00Z                  la Marina de Port   \n",
       "3  2009-01-01T00:00:00Z  el Parc i la Llacuna del Poblenou   \n",
       "4  2009-01-01T00:00:00Z              la Font de la Guatlla   \n",
       "\n",
       "   Dim-01:TERRITORI (order) Dim-01:TERRITORI (type)  \\\n",
       "0                        29                   Barri   \n",
       "1                        37                   Barri   \n",
       "2                        13                   Barri   \n",
       "3                        66                   Barri   \n",
       "4                        14                   Barri   \n",
       "\n",
       "  Dim-02:ÃS I DESTINACIÃ PRINCIPAL   VALUE  \n",
       "0              Ensenyament i cultura    29.0  \n",
       "1                           Oficines    77.0  \n",
       "2                             Altres    12.0  \n",
       "3                          Habitatge  6434.0  \n",
       "4                           Esportiu     6.0  "
      ]
     },
     "execution_count": 9,
     "metadata": {},
     "output_type": "execute_result"
    }
   ],
   "source": [
    "df_housing.head()"
   ]
  },
  {
   "cell_type": "code",
   "execution_count": 10,
   "metadata": {},
   "outputs": [],
   "source": [
    "df_housing.rename(columns={\n",
    "    'Dim-00:TEMPS': 'year',\n",
    "    'Dim-01:TERRITORI': 'territory',\n",
    "    'Dim-01:TERRITORI (order)': 'territory_order',\n",
    "    'Dim-01:TERRITORI (type)': 'territory_type',\n",
    "    'Dim-02:ÃS I DESTINACIÃ PRINCIPAL': 'main_use_destination',\n",
    "    'VALUE': 'num_premises'\n",
    "}, inplace=True)\n"
   ]
  },
  {
   "cell_type": "code",
   "execution_count": 13,
   "metadata": {},
   "outputs": [
    {
     "data": {
      "text/plain": [
       "array(['Barri', 'Districte', 'Municipi'], dtype=object)"
      ]
     },
     "execution_count": 13,
     "metadata": {},
     "output_type": "execute_result"
    }
   ],
   "source": [
    "df_housing['territory_type'].unique()"
   ]
  },
  {
   "cell_type": "code",
   "execution_count": 14,
   "metadata": {},
   "outputs": [],
   "source": [
    "df_housing['territory'] = df_housing['territory'].str.encode('latin1').str.decode('utf-8')\n",
    "df_housing['territory_type'] = df_housing['territory_type'].str.encode('latin1').str.decode('utf-8')\n",
    "df_housing['main_use_destination'] = df_housing['main_use_destination'].str.encode('latin1').str.decode('utf-8')"
   ]
  },
  {
   "cell_type": "code",
   "execution_count": 15,
   "metadata": {},
   "outputs": [
    {
     "data": {
      "text/plain": [
       "array(['Ensenyament i cultura', 'Oficines', 'Altres', 'Habitatge',\n",
       "       'Esportiu', 'Turisme i hostaleria', 'Religiós', 'Comerç',\n",
       "       'Espectacles', 'Aparcaments', 'Indústria', 'Sanitat', 'Magatzem',\n",
       "       'Administració Pública', 'No consta', 'Sòl sense edificar'],\n",
       "      dtype=object)"
      ]
     },
     "execution_count": 15,
     "metadata": {},
     "output_type": "execute_result"
    }
   ],
   "source": [
    "df_housing['main_use_destination'].unique()"
   ]
  },
  {
   "cell_type": "code",
   "execution_count": 16,
   "metadata": {},
   "outputs": [],
   "source": [
    "df_housing['main_use_destination'] = df_housing['main_use_destination'].replace({\n",
    "    'Ensenyament i cultura': 'Education and culture',\n",
    "    'Oficines': 'Offices',\n",
    "    'Altres': 'Other',\n",
    "    'Habitatge': 'Housing',\n",
    "    'Esportiu': 'Sports',\n",
    "    'Turisme i hostaleria': 'Tourism and hospitality',\n",
    "    'Religiós': 'Religious',\n",
    "    'Comerç': 'Commerce',\n",
    "    'Espectacles': 'Entertainment',\n",
    "    'Aparcaments': 'Parking',\n",
    "    'Indústria': 'Industry',\n",
    "    'Sanitat': 'Healthcare',\n",
    "    'Magatzem': 'Warehouse',\n",
    "    'Administració Pública': 'Public administration',\n",
    "    'No consta': 'Not specified',\n",
    "    'Sòl sense edificar': 'Unbuilt land'\n",
    "})\n"
   ]
  },
  {
   "cell_type": "code",
   "execution_count": 17,
   "metadata": {},
   "outputs": [
    {
     "data": {
      "text/plain": [
       "array(['Education and culture', 'Offices', 'Other', 'Housing', 'Sports',\n",
       "       'Tourism and hospitality', 'Religious', 'Commerce',\n",
       "       'Entertainment', 'Parking', 'Industry', 'Healthcare', 'Warehouse',\n",
       "       'Public administration', 'Not specified', 'Unbuilt land'],\n",
       "      dtype=object)"
      ]
     },
     "execution_count": 17,
     "metadata": {},
     "output_type": "execute_result"
    }
   ],
   "source": [
    "df_housing['main_use_destination'].unique()"
   ]
  },
  {
   "cell_type": "code",
   "execution_count": 18,
   "metadata": {},
   "outputs": [
    {
     "data": {
      "text/plain": [
       "array(['2009-01-01T00:00:00Z', '2010-01-01T00:00:00Z',\n",
       "       '2011-01-01T00:00:00Z', '2012-01-01T00:00:00Z',\n",
       "       '2013-01-01T00:00:00Z', '2014-01-01T00:00:00Z',\n",
       "       '2015-01-01T00:00:00Z', '2016-01-01T00:00:00Z',\n",
       "       '2017-01-01T00:00:00Z', '2018-01-01T00:00:00Z',\n",
       "       '2019-01-01T00:00:00Z', '2020-01-01T00:00:00Z',\n",
       "       '2021-01-01T00:00:00Z', '2022-01-01T00:00:00Z',\n",
       "       '2023-03-06T00:00:00Z', '2024-02-26T00:00:00Z',\n",
       "       '2025-03-04T00:00:00Z'], dtype=object)"
      ]
     },
     "execution_count": 18,
     "metadata": {},
     "output_type": "execute_result"
    }
   ],
   "source": [
    "df_housing['year'].unique()"
   ]
  },
  {
   "cell_type": "code",
   "execution_count": 19,
   "metadata": {},
   "outputs": [],
   "source": [
    "df_housing['year'] = pd.to_datetime(df_housing['year'], errors='coerce').dt.year\n"
   ]
  },
  {
   "cell_type": "code",
   "execution_count": 20,
   "metadata": {},
   "outputs": [
    {
     "name": "stdout",
     "output_type": "stream",
     "text": [
      "[2009, 2010, 2011, 2012, 2013, 2014, 2015, 2016, 2017, 2018, 2019, 2020, 2021, 2022, 2023, 2024, 2025]\n"
     ]
    }
   ],
   "source": [
    "print(sorted(df_housing['year'].unique()))\n"
   ]
  },
  {
   "cell_type": "code",
   "execution_count": 21,
   "metadata": {},
   "outputs": [],
   "source": [
    "df_housing['territory_type'] = df_housing['territory_type'].replace({\n",
    "    'Barri': 'Neighbourhood',\n",
    "    'Districte': 'District',\n",
    "    'Municipi': 'Municipality'\n",
    "})\n"
   ]
  },
  {
   "cell_type": "code",
   "execution_count": 22,
   "metadata": {},
   "outputs": [
    {
     "data": {
      "text/plain": [
       "array(['Neighbourhood', 'District', 'Municipality'], dtype=object)"
      ]
     },
     "execution_count": 22,
     "metadata": {},
     "output_type": "execute_result"
    }
   ],
   "source": [
    "df_housing['territory_type'].unique()"
   ]
  },
  {
   "cell_type": "code",
   "execution_count": 23,
   "metadata": {},
   "outputs": [
    {
     "data": {
      "text/html": [
       "<div>\n",
       "<style scoped>\n",
       "    .dataframe tbody tr th:only-of-type {\n",
       "        vertical-align: middle;\n",
       "    }\n",
       "\n",
       "    .dataframe tbody tr th {\n",
       "        vertical-align: top;\n",
       "    }\n",
       "\n",
       "    .dataframe thead th {\n",
       "        text-align: right;\n",
       "    }\n",
       "</style>\n",
       "<table border=\"1\" class=\"dataframe\">\n",
       "  <thead>\n",
       "    <tr style=\"text-align: right;\">\n",
       "      <th></th>\n",
       "      <th>year</th>\n",
       "      <th>territory</th>\n",
       "      <th>territory_order</th>\n",
       "      <th>territory_type</th>\n",
       "      <th>main_use_destination</th>\n",
       "      <th>num_premises</th>\n",
       "    </tr>\n",
       "  </thead>\n",
       "  <tbody>\n",
       "    <tr>\n",
       "      <th>0</th>\n",
       "      <td>2009</td>\n",
       "      <td>el Coll</td>\n",
       "      <td>29</td>\n",
       "      <td>Neighbourhood</td>\n",
       "      <td>Education and culture</td>\n",
       "      <td>29.0</td>\n",
       "    </tr>\n",
       "    <tr>\n",
       "      <th>1</th>\n",
       "      <td>2009</td>\n",
       "      <td>el Carmel</td>\n",
       "      <td>37</td>\n",
       "      <td>Neighbourhood</td>\n",
       "      <td>Offices</td>\n",
       "      <td>77.0</td>\n",
       "    </tr>\n",
       "    <tr>\n",
       "      <th>2</th>\n",
       "      <td>2009</td>\n",
       "      <td>la Marina de Port</td>\n",
       "      <td>13</td>\n",
       "      <td>Neighbourhood</td>\n",
       "      <td>Other</td>\n",
       "      <td>12.0</td>\n",
       "    </tr>\n",
       "    <tr>\n",
       "      <th>3</th>\n",
       "      <td>2009</td>\n",
       "      <td>el Parc i la Llacuna del Poblenou</td>\n",
       "      <td>66</td>\n",
       "      <td>Neighbourhood</td>\n",
       "      <td>Housing</td>\n",
       "      <td>6434.0</td>\n",
       "    </tr>\n",
       "    <tr>\n",
       "      <th>4</th>\n",
       "      <td>2009</td>\n",
       "      <td>la Font de la Guatlla</td>\n",
       "      <td>14</td>\n",
       "      <td>Neighbourhood</td>\n",
       "      <td>Sports</td>\n",
       "      <td>6.0</td>\n",
       "    </tr>\n",
       "  </tbody>\n",
       "</table>\n",
       "</div>"
      ],
      "text/plain": [
       "   year                          territory  territory_order territory_type  \\\n",
       "0  2009                            el Coll               29  Neighbourhood   \n",
       "1  2009                          el Carmel               37  Neighbourhood   \n",
       "2  2009                  la Marina de Port               13  Neighbourhood   \n",
       "3  2009  el Parc i la Llacuna del Poblenou               66  Neighbourhood   \n",
       "4  2009              la Font de la Guatlla               14  Neighbourhood   \n",
       "\n",
       "    main_use_destination  num_premises  \n",
       "0  Education and culture          29.0  \n",
       "1                Offices          77.0  \n",
       "2                  Other          12.0  \n",
       "3                Housing        6434.0  \n",
       "4                 Sports           6.0  "
      ]
     },
     "execution_count": 23,
     "metadata": {},
     "output_type": "execute_result"
    }
   ],
   "source": [
    "df_housing.head()"
   ]
  },
  {
   "cell_type": "code",
   "execution_count": 36,
   "metadata": {},
   "outputs": [],
   "source": [
    "df_housing.to_csv(\"housing_stock_data.csv\", index=False, encoding='utf-8')\n"
   ]
  },
  {
   "cell_type": "markdown",
   "metadata": {},
   "source": [
    "## VACANT DATA "
   ]
  },
  {
   "cell_type": "code",
   "execution_count": 24,
   "metadata": {},
   "outputs": [
    {
     "name": "stdout",
     "output_type": "stream",
     "text": [
      "✅ Dataset çekildi, ilk 5 satır:\n",
      "           Dim-00:TEMPS Dim-01:TERRITORI  Dim-01:TERRITORI (order)  \\\n",
      "0  1981-01-01T00:00:00Z        Barcelona                         1   \n",
      "1  1981-01-01T00:00:00Z        Barcelona                         1   \n",
      "2  1981-01-01T00:00:00Z        Barcelona                         1   \n",
      "3  1981-01-01T00:00:00Z        Barcelona                         1   \n",
      "4  1991-01-01T00:00:00Z  Horta-GuinardÃ³                         7   \n",
      "\n",
      "  Dim-01:TERRITORI (type) Dim-02:TIPUS HABITATGE     VALUE  \n",
      "0                Municipi              Secundari   14399.0  \n",
      "1                Municipi                 Altres       0.0  \n",
      "2                Municipi              Principal  579831.0  \n",
      "3                Municipi              Desocupat   79276.0  \n",
      "4               Districte              Secundari    1899.0  \n",
      "\n",
      "📌 Kolonlar:\n",
      "['Dim-00:TEMPS', 'Dim-01:TERRITORI', 'Dim-01:TERRITORI (order)', 'Dim-01:TERRITORI (type)', 'Dim-02:TIPUS HABITATGE', 'VALUE']\n"
     ]
    }
   ],
   "source": [
    "import requests\n",
    "import pandas as pd\n",
    "from io import StringIO\n",
    "\n",
    "# 1. API bilgileri\n",
    "url_conservation = \"https://portaldades.ajuntament.barcelona.cat/services/backend/rest/statistic/export?id=rdkoh4ukx5&fileformat=CSV\"\n",
    "headers = {\"X-IBM-Client-Id\": \"f943a426a663183091a1401f55eec60d\"}\n",
    "\n",
    "# 2. Veri çek\n",
    "response_conservation = requests.get(url_conservation, headers=headers)\n",
    "\n",
    "# 3. Status kontrol\n",
    "if response_conservation.status_code == 200:\n",
    "    data_conservation = StringIO(response_conservation.content.decode('latin1'))\n",
    "    df_conservation = pd.read_csv(data_conservation, sep=',')\n",
    "\n",
    "    print(\"✅ Dataset çekildi, ilk 5 satır:\")\n",
    "    print(df_conservation.head())\n",
    "    print(\"\\n📌 Kolonlar:\")\n",
    "    print(df_conservation.columns.tolist())\n",
    "\n",
    "else:\n",
    "    print(f\"❌ HATA: Status code {response_conservation.status_code}\")\n"
   ]
  },
  {
   "cell_type": "code",
   "execution_count": 25,
   "metadata": {},
   "outputs": [],
   "source": [
    "df_conservation.rename(columns={\n",
    "    'Dim-00:TEMPS': 'year',\n",
    "    'Dim-01:TERRITORI': 'territory',\n",
    "    'Dim-01:TERRITORI (order)': 'territory_order',\n",
    "    'Dim-01:TERRITORI (type)': 'territory_type',\n",
    "    'Dim-02:TIPUS HABITATGE': 'occupancy_status',\n",
    "    'VALUE': 'num_housing_units'\n",
    "}, inplace=True)\n"
   ]
  },
  {
   "cell_type": "code",
   "execution_count": 31,
   "metadata": {},
   "outputs": [
    {
     "data": {
      "text/plain": [
       "array(['1981-01-01T00:00:00Z', '1991-01-01T00:00:00Z',\n",
       "       '2001-01-01T00:00:00Z', '2011-01-01T00:00:00Z',\n",
       "       '2021-01-01T00:00:00Z'], dtype=object)"
      ]
     },
     "execution_count": 31,
     "metadata": {},
     "output_type": "execute_result"
    }
   ],
   "source": [
    "df_conservation['year'].unique()"
   ]
  },
  {
   "cell_type": "code",
   "execution_count": 28,
   "metadata": {},
   "outputs": [],
   "source": [
    "df_conservation['occupancy_status'] = df_conservation['occupancy_status'].replace({\n",
    "    'Principal': 'Main',\n",
    "    'Secundari': 'Secondary',\n",
    "    'Desocupat': 'Vacant',\n",
    "    'Altres': 'Other',\n",
    "    'Allotjament': 'Accommodation',\n",
    "    'No principal': 'Not main'\n",
    "})\n"
   ]
  },
  {
   "cell_type": "code",
   "execution_count": 29,
   "metadata": {},
   "outputs": [],
   "source": [
    "df_conservation['territory_type'] = df_conservation['territory_type'].replace({\n",
    "    'Municipi': 'Municipality',\n",
    "    'Districte': 'District',\n",
    "    'Barri': 'Neighbourhood'\n",
    "})\n"
   ]
  },
  {
   "cell_type": "code",
   "execution_count": 30,
   "metadata": {},
   "outputs": [],
   "source": [
    "df_conservation['territory'] = df_conservation['territory'].str.encode('latin1').str.decode('utf-8')\n",
    "df_conservation['territory_type'] = df_conservation['territory_type'].str.encode('latin1').str.decode('utf-8')"
   ]
  },
  {
   "cell_type": "code",
   "execution_count": 32,
   "metadata": {},
   "outputs": [],
   "source": [
    "df_conservation['year'] = pd.to_datetime(df_conservation['year'], errors='coerce').dt.year"
   ]
  },
  {
   "cell_type": "code",
   "execution_count": 33,
   "metadata": {},
   "outputs": [
    {
     "data": {
      "text/html": [
       "<div>\n",
       "<style scoped>\n",
       "    .dataframe tbody tr th:only-of-type {\n",
       "        vertical-align: middle;\n",
       "    }\n",
       "\n",
       "    .dataframe tbody tr th {\n",
       "        vertical-align: top;\n",
       "    }\n",
       "\n",
       "    .dataframe thead th {\n",
       "        text-align: right;\n",
       "    }\n",
       "</style>\n",
       "<table border=\"1\" class=\"dataframe\">\n",
       "  <thead>\n",
       "    <tr style=\"text-align: right;\">\n",
       "      <th></th>\n",
       "      <th>year</th>\n",
       "      <th>territory</th>\n",
       "      <th>territory_order</th>\n",
       "      <th>territory_type</th>\n",
       "      <th>occupancy_status</th>\n",
       "      <th>num_housing_units</th>\n",
       "    </tr>\n",
       "  </thead>\n",
       "  <tbody>\n",
       "    <tr>\n",
       "      <th>0</th>\n",
       "      <td>1981</td>\n",
       "      <td>Barcelona</td>\n",
       "      <td>1</td>\n",
       "      <td>Municipality</td>\n",
       "      <td>Secondary</td>\n",
       "      <td>14399.0</td>\n",
       "    </tr>\n",
       "    <tr>\n",
       "      <th>1</th>\n",
       "      <td>1981</td>\n",
       "      <td>Barcelona</td>\n",
       "      <td>1</td>\n",
       "      <td>Municipality</td>\n",
       "      <td>Other</td>\n",
       "      <td>0.0</td>\n",
       "    </tr>\n",
       "    <tr>\n",
       "      <th>2</th>\n",
       "      <td>1981</td>\n",
       "      <td>Barcelona</td>\n",
       "      <td>1</td>\n",
       "      <td>Municipality</td>\n",
       "      <td>Main</td>\n",
       "      <td>579831.0</td>\n",
       "    </tr>\n",
       "    <tr>\n",
       "      <th>3</th>\n",
       "      <td>1981</td>\n",
       "      <td>Barcelona</td>\n",
       "      <td>1</td>\n",
       "      <td>Municipality</td>\n",
       "      <td>Vacant</td>\n",
       "      <td>79276.0</td>\n",
       "    </tr>\n",
       "    <tr>\n",
       "      <th>4</th>\n",
       "      <td>1991</td>\n",
       "      <td>Horta-Guinardó</td>\n",
       "      <td>7</td>\n",
       "      <td>District</td>\n",
       "      <td>Secondary</td>\n",
       "      <td>1899.0</td>\n",
       "    </tr>\n",
       "  </tbody>\n",
       "</table>\n",
       "</div>"
      ],
      "text/plain": [
       "   year       territory  territory_order territory_type occupancy_status  \\\n",
       "0  1981       Barcelona                1   Municipality        Secondary   \n",
       "1  1981       Barcelona                1   Municipality            Other   \n",
       "2  1981       Barcelona                1   Municipality             Main   \n",
       "3  1981       Barcelona                1   Municipality           Vacant   \n",
       "4  1991  Horta-Guinardó                7       District        Secondary   \n",
       "\n",
       "   num_housing_units  \n",
       "0            14399.0  \n",
       "1                0.0  \n",
       "2           579831.0  \n",
       "3            79276.0  \n",
       "4             1899.0  "
      ]
     },
     "execution_count": 33,
     "metadata": {},
     "output_type": "execute_result"
    }
   ],
   "source": [
    "df_conservation.head()"
   ]
  },
  {
   "cell_type": "code",
   "execution_count": 35,
   "metadata": {},
   "outputs": [],
   "source": [
    "df_conservation.to_csv(\"housing_occupancy_data.csv\", index=False, encoding='utf-8')\n"
   ]
  },
  {
   "cell_type": "code",
   "execution_count": null,
   "metadata": {},
   "outputs": [],
   "source": []
  }
 ],
 "metadata": {
  "kernelspec": {
   "display_name": "base",
   "language": "python",
   "name": "python3"
  },
  "language_info": {
   "codemirror_mode": {
    "name": "ipython",
    "version": 3
   },
   "file_extension": ".py",
   "mimetype": "text/x-python",
   "name": "python",
   "nbconvert_exporter": "python",
   "pygments_lexer": "ipython3",
   "version": "3.12.4"
  }
 },
 "nbformat": 4,
 "nbformat_minor": 2
}
