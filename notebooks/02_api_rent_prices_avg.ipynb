{
 "cells": [
  {
   "cell_type": "code",
   "execution_count": 2,
   "metadata": {},
   "outputs": [],
   "source": [
    "import requests\n",
    "import pandas as pd\n",
    "from io import StringIO\n",
    "\n",
    "# API URL ve Client ID\n",
    "url = \"https://portaldades.ajuntament.barcelona.cat/services/backend/rest/statistic/export?id=b37xv8wcjh&fileformat=CSV\"\n",
    "headers = {\n",
    "    \"X-IBM-Client-Id\": \"f943a426a663183091a1401f55eec60d\"\n",
    "}\n",
    "\n",
    "# API'den veriyi çek\n",
    "response = requests.get(url, headers=headers)\n",
    "\n",
    "if response.status_code == 200:\n",
    "    # Veriyi StringIO ile oku\n",
    "    data = StringIO(response.content.decode('latin1'))\n",
    "    df_rent_price_avg = pd.read_csv(data, sep=',', encoding='latin1')  # SEP = ','\n",
    "else:\n",
    "    print(f\"Veri çekilemedi! Status code: {response.status_code}\")\n"
   ]
  },
  {
   "cell_type": "code",
   "execution_count": 3,
   "metadata": {},
   "outputs": [
    {
     "data": {
      "text/html": [
       "<div>\n",
       "<style scoped>\n",
       "    .dataframe tbody tr th:only-of-type {\n",
       "        vertical-align: middle;\n",
       "    }\n",
       "\n",
       "    .dataframe tbody tr th {\n",
       "        vertical-align: top;\n",
       "    }\n",
       "\n",
       "    .dataframe thead th {\n",
       "        text-align: right;\n",
       "    }\n",
       "</style>\n",
       "<table border=\"1\" class=\"dataframe\">\n",
       "  <thead>\n",
       "    <tr style=\"text-align: right;\">\n",
       "      <th></th>\n",
       "      <th>Dim-00:TEMPS</th>\n",
       "      <th>Dim-01:TERRITORI</th>\n",
       "      <th>Dim-01:TERRITORI (order)</th>\n",
       "      <th>Dim-01:TERRITORI (type)</th>\n",
       "      <th>VALUE</th>\n",
       "    </tr>\n",
       "  </thead>\n",
       "  <tbody>\n",
       "    <tr>\n",
       "      <th>0</th>\n",
       "      <td>2000-01-01T00:00:00Z</td>\n",
       "      <td>GrÃ cia</td>\n",
       "      <td>6</td>\n",
       "      <td>Districte</td>\n",
       "      <td>348.617900</td>\n",
       "    </tr>\n",
       "    <tr>\n",
       "      <th>1</th>\n",
       "      <td>2000-01-01T00:00:00Z</td>\n",
       "      <td>Horta-GuinardÃ³</td>\n",
       "      <td>7</td>\n",
       "      <td>Districte</td>\n",
       "      <td>320.278800</td>\n",
       "    </tr>\n",
       "    <tr>\n",
       "      <th>2</th>\n",
       "      <td>2000-01-01T00:00:00Z</td>\n",
       "      <td>Eixample</td>\n",
       "      <td>2</td>\n",
       "      <td>Districte</td>\n",
       "      <td>436.381771</td>\n",
       "    </tr>\n",
       "    <tr>\n",
       "      <th>3</th>\n",
       "      <td>2000-01-01T00:00:00Z</td>\n",
       "      <td>Sant Andreu</td>\n",
       "      <td>9</td>\n",
       "      <td>Districte</td>\n",
       "      <td>339.494251</td>\n",
       "    </tr>\n",
       "    <tr>\n",
       "      <th>4</th>\n",
       "      <td>2000-01-01T00:00:00Z</td>\n",
       "      <td>Sants-MontjuÃ¯c</td>\n",
       "      <td>3</td>\n",
       "      <td>Districte</td>\n",
       "      <td>312.987100</td>\n",
       "    </tr>\n",
       "  </tbody>\n",
       "</table>\n",
       "</div>"
      ],
      "text/plain": [
       "           Dim-00:TEMPS Dim-01:TERRITORI  Dim-01:TERRITORI (order)  \\\n",
       "0  2000-01-01T00:00:00Z          GrÃ cia                         6   \n",
       "1  2000-01-01T00:00:00Z  Horta-GuinardÃ³                         7   \n",
       "2  2000-01-01T00:00:00Z         Eixample                         2   \n",
       "3  2000-01-01T00:00:00Z      Sant Andreu                         9   \n",
       "4  2000-01-01T00:00:00Z  Sants-MontjuÃ¯c                         3   \n",
       "\n",
       "  Dim-01:TERRITORI (type)       VALUE  \n",
       "0               Districte  348.617900  \n",
       "1               Districte  320.278800  \n",
       "2               Districte  436.381771  \n",
       "3               Districte  339.494251  \n",
       "4               Districte  312.987100  "
      ]
     },
     "execution_count": 3,
     "metadata": {},
     "output_type": "execute_result"
    }
   ],
   "source": [
    "df_rent_price_avg.head()"
   ]
  },
  {
   "cell_type": "code",
   "execution_count": 4,
   "metadata": {},
   "outputs": [],
   "source": [
    "df_rent_price_avg = df_rent_price_avg.rename(columns={\n",
    "    'Dim-00:TEMPS': 'year',\n",
    "    'Dim-01:TERRITORI': 'territory',\n",
    "    'Dim-01:TERRITORI (order)': 'territory_order',\n",
    "    'Dim-01:TERRITORI (type)': 'territory_type',\n",
    "    'VALUE': 'average_rent_price'\n",
    "})\n"
   ]
  },
  {
   "cell_type": "code",
   "execution_count": 5,
   "metadata": {},
   "outputs": [
    {
     "name": "stdout",
     "output_type": "stream",
     "text": [
      "The number of values for feature year :100\n",
      "The number of values for feature territory :85 -- ['Barcelona' 'BarÃ³ de Viver' 'Can BarÃ³' 'Can Peguera' 'Canyelles'\n",
      " 'Catalunya' 'Ciutat Meridiana' 'Ciutat Vella'\n",
      " 'Diagonal Mar i el Front MarÃ\\xadtim del Poblenou' 'Eixample'\n",
      " 'GrÃ\\xa0cia' 'Horta' 'Horta-GuinardÃ³' 'Hostafrancs' 'Les Corts'\n",
      " 'MetropolitÃ\\xa0 de Barcelona' 'Montbau' 'Navas' 'Nou Barris' 'Pedralbes'\n",
      " 'Porta' 'ProvenÃ§als del Poblenou' 'Sant Andreu' 'Sant Antoni'\n",
      " 'Sant GenÃ\\xads dels Agudells' 'Sant Gervasi - Galvany'\n",
      " 'Sant Gervasi - la Bonanova' 'Sant MartÃ\\xad'\n",
      " 'Sant MartÃ\\xad de ProvenÃ§als' 'Sant Pere, Santa Caterina i la Ribera'\n",
      " 'Sants' 'Sants - Badal' 'Sants-MontjuÃ¯c' 'SarriÃ\\xa0'\n",
      " 'SarriÃ\\xa0-Sant Gervasi' 'Torre BarÃ³' 'Vallbona'\n",
      " 'Vallcarca i els Penitents' 'Vallvidrera, el Tibidabo i les Planes'\n",
      " 'Verdun' 'Vilapicina i la Torre Llobeta' 'el Baix GuinardÃ³'\n",
      " 'el Barri GÃ²tic' 'el BesÃ²s i el Maresme' 'el Bon Pastor'\n",
      " \"el Camp d'en Grassot i GrÃ\\xa0cia Nova\" \"el Camp de l'Arpa del Clot\"\n",
      " 'el Carmel' 'el Clot' 'el Coll' 'el CongrÃ©s i els Indians'\n",
      " 'el Fort Pienc' 'el GuinardÃ³' 'el Parc i la Llacuna del Poblenou'\n",
      " 'el Poble Sec - AEI Parc MontjuÃ¯c' 'el Poblenou' 'el Putxet i el FarrÃ³'\n",
      " 'el Raval' 'el TurÃ³ de la Peira' \"l'Antiga Esquerra de l'Eixample\"\n",
      " 'la Barceloneta' 'la Bordeta' 'la Clota' \"la Dreta de l'Eixample\"\n",
      " \"la Font d'en Fargues\" 'la Font de la Guatlla' 'la Guineueta'\n",
      " 'la Marina de Port' 'la Marina del Prat Vermell - AEI Zona Franca'\n",
      " 'la Maternitat i Sant Ramon' \"la Nova Esquerra de l'Eixample\"\n",
      " 'la Prosperitat' 'la Sagrada FamÃ\\xadlia' 'la Sagrera' 'la Salut'\n",
      " 'la Teixonera' 'la Trinitat Nova' 'la Trinitat Vella' \"la Vall d'Hebron\"\n",
      " 'la Verneda i la Pau' 'la Vila OlÃ\\xadmpica del Poblenou'\n",
      " 'la Vila de GrÃ\\xa0cia' 'les Corts' 'les Roquetes' 'les Tres Torres']\n",
      "The number of values for feature territory_order :74 -- [-1  1  2  3  4  5  6  7  8  9 10 11 12 13 14 15 16 17 18 19 20 21 22 23\n",
      " 24 25 26 27 28 29 30 31 32 33 34 35 36 37 38 39 40 41 42 43 44 45 46 47\n",
      " 48 49 50 51 52 53 54 55 56 57 58 59 60 61 62 63 64 65 66 67 68 69 70 71\n",
      " 72 73]\n",
      "The number of values for feature territory_type :5 -- ['Barri' 'Comunitat AutÃ²noma' 'Districte' 'Municipi'\n",
      " 'Ã\\x80mbit Funcional Territorial']\n",
      "The number of values for feature average_rent_price :5358\n"
     ]
    }
   ],
   "source": [
    "import numpy as np\n",
    "for column in df_rent_price_avg:\n",
    "    unique_vals = np.unique(df_rent_price_avg[column].fillna('0'))\n",
    "    nr_values = len(unique_vals)\n",
    "    if nr_values <= 85:\n",
    "        print(\"The number of values for feature {} :{} -- {}\".format(column, nr_values, unique_vals))\n",
    "    else:\n",
    "        print(\"The number of values for feature {} :{}\".format(column, nr_values))"
   ]
  },
  {
   "cell_type": "code",
   "execution_count": 6,
   "metadata": {},
   "outputs": [
    {
     "name": "stdout",
     "output_type": "stream",
     "text": [
      "Index(['year', 'territory', 'territory_order', 'territory_type',\n",
      "       'average_rent_price'],\n",
      "      dtype='object')\n"
     ]
    }
   ],
   "source": [
    "print(df_rent_price_avg.columns)"
   ]
  },
  {
   "cell_type": "markdown",
   "metadata": {},
   "source": [
    "## ✅ Adım 1 - Encoding Cleanup (Zorunlu)"
   ]
  },
  {
   "cell_type": "code",
   "execution_count": 7,
   "metadata": {},
   "outputs": [],
   "source": [
    "df_rent_price_avg['territory'] = df_rent_price_avg['territory'].str.encode('latin1').str.decode('utf-8')\n",
    "df_rent_price_avg['territory_type'] = df_rent_price_avg['territory_type'].str.encode('latin1').str.decode('utf-8')"
   ]
  },
  {
   "cell_type": "code",
   "execution_count": 8,
   "metadata": {},
   "outputs": [
    {
     "name": "stdout",
     "output_type": "stream",
     "text": [
      "['Gràcia' 'Horta-Guinardó' 'Eixample' 'Sant Andreu' 'Sants-Montjuïc'\n",
      " 'Sant Martí' 'Les Corts' 'Sarrià-Sant Gervasi' 'Barcelona' 'Nou Barris']\n",
      "['Districte' 'Municipi' 'Comunitat Autònoma' 'Àmbit Funcional Territorial'\n",
      " 'Barri']\n"
     ]
    }
   ],
   "source": [
    "print(df_rent_price_avg['territory'].unique()[:10])\n",
    "print(df_rent_price_avg['territory_type'].unique())\n"
   ]
  },
  {
   "cell_type": "markdown",
   "metadata": {},
   "source": [
    "## ✅ Adım 2 - Yıl Kontrolü ve Temizlik"
   ]
  },
  {
   "cell_type": "code",
   "execution_count": 9,
   "metadata": {},
   "outputs": [
    {
     "name": "stdout",
     "output_type": "stream",
     "text": [
      "['2000-01-01T00:00:00Z', '2000-04-01T00:00:00Z', '2000-07-01T00:00:00Z', '2000-10-01T00:00:00Z', '2001-01-01T00:00:00Z', '2001-04-01T00:00:00Z', '2001-07-01T00:00:00Z', '2001-10-01T00:00:00Z', '2002-01-01T00:00:00Z', '2002-04-01T00:00:00Z', '2002-07-01T00:00:00Z', '2002-10-01T00:00:00Z', '2003-01-01T00:00:00Z', '2003-04-01T00:00:00Z', '2003-07-01T00:00:00Z', '2003-10-01T00:00:00Z', '2004-01-01T00:00:00Z', '2004-04-01T00:00:00Z', '2004-07-01T00:00:00Z', '2004-10-01T00:00:00Z', '2005-01-01T00:00:00Z', '2005-04-01T00:00:00Z', '2005-07-01T00:00:00Z', '2005-10-01T00:00:00Z', '2006-01-01T00:00:00Z', '2006-04-01T00:00:00Z', '2006-07-01T00:00:00Z', '2006-10-01T00:00:00Z', '2007-01-01T00:00:00Z', '2007-04-01T00:00:00Z', '2007-07-01T00:00:00Z', '2007-10-01T00:00:00Z', '2008-01-01T00:00:00Z', '2008-04-01T00:00:00Z', '2008-07-01T00:00:00Z', '2008-10-01T00:00:00Z', '2009-01-01T00:00:00Z', '2009-04-01T00:00:00Z', '2009-07-01T00:00:00Z', '2009-10-01T00:00:00Z', '2010-01-01T00:00:00Z', '2010-04-01T00:00:00Z', '2010-07-01T00:00:00Z', '2010-10-01T00:00:00Z', '2011-01-01T00:00:00Z', '2011-04-01T00:00:00Z', '2011-07-01T00:00:00Z', '2011-10-01T00:00:00Z', '2012-01-01T00:00:00Z', '2012-04-01T00:00:00Z', '2012-07-01T00:00:00Z', '2012-10-01T00:00:00Z', '2013-01-01T00:00:00Z', '2013-04-01T00:00:00Z', '2013-07-01T00:00:00Z', '2013-10-01T00:00:00Z', '2014-01-01T00:00:00Z', '2014-04-01T00:00:00Z', '2014-07-01T00:00:00Z', '2014-10-01T00:00:00Z', '2015-01-01T00:00:00Z', '2015-04-01T00:00:00Z', '2015-07-01T00:00:00Z', '2015-10-01T00:00:00Z', '2016-01-01T00:00:00Z', '2016-04-01T00:00:00Z', '2016-07-01T00:00:00Z', '2016-10-01T00:00:00Z', '2017-01-01T00:00:00Z', '2017-04-01T00:00:00Z', '2017-07-01T00:00:00Z', '2017-10-01T00:00:00Z', '2018-01-01T00:00:00Z', '2018-04-01T00:00:00Z', '2018-07-01T00:00:00Z', '2018-10-01T00:00:00Z', '2019-01-01T00:00:00Z', '2019-04-01T00:00:00Z', '2019-07-01T00:00:00Z', '2019-10-01T00:00:00Z', '2020-01-01T00:00:00Z', '2020-04-01T00:00:00Z', '2020-07-01T00:00:00Z', '2020-10-01T00:00:00Z', '2021-01-01T00:00:00Z', '2021-04-01T00:00:00Z', '2021-07-01T00:00:00Z', '2021-10-01T00:00:00Z', '2022-01-01T00:00:00Z', '2022-04-01T00:00:00Z', '2022-07-01T00:00:00Z', '2022-10-01T00:00:00Z', '2023-01-01T00:00:00Z', '2023-04-01T00:00:00Z', '2023-07-01T00:00:00Z', '2023-10-01T00:00:00Z', '2024-01-01T00:00:00Z', '2024-04-01T00:00:00Z', '2024-07-01T00:00:00Z', '2024-10-01T00:00:00Z']\n"
     ]
    }
   ],
   "source": [
    "print(sorted(df_rent_price_avg['year'].unique()))"
   ]
  },
  {
   "cell_type": "code",
   "execution_count": 10,
   "metadata": {},
   "outputs": [
    {
     "name": "stderr",
     "output_type": "stream",
     "text": [
      "C:\\Users\\tevfi\\AppData\\Local\\Temp\\ipykernel_4516\\2978808888.py:2: UserWarning: Converting to PeriodArray/Index representation will drop timezone information.\n",
      "  df_rent_price_avg['year_quarter'] = df_rent_price_avg['year'].dt.to_period('Q').astype(str)\n"
     ]
    }
   ],
   "source": [
    "df_rent_price_avg['year'] = pd.to_datetime(df_rent_price_avg['year'])\n",
    "df_rent_price_avg['year_quarter'] = df_rent_price_avg['year'].dt.to_period('Q').astype(str)\n"
   ]
  },
  {
   "cell_type": "code",
   "execution_count": 11,
   "metadata": {},
   "outputs": [
    {
     "name": "stdout",
     "output_type": "stream",
     "text": [
      "                        year year_quarter\n",
      "0  2000-01-01 00:00:00+00:00       2000Q1\n",
      "1  2000-01-01 00:00:00+00:00       2000Q1\n",
      "2  2000-01-01 00:00:00+00:00       2000Q1\n",
      "3  2000-01-01 00:00:00+00:00       2000Q1\n",
      "4  2000-01-01 00:00:00+00:00       2000Q1\n",
      "5  2000-01-01 00:00:00+00:00       2000Q1\n",
      "6  2000-01-01 00:00:00+00:00       2000Q1\n",
      "7  2000-01-01 00:00:00+00:00       2000Q1\n",
      "8  2000-01-01 00:00:00+00:00       2000Q1\n",
      "9  2000-01-01 00:00:00+00:00       2000Q1\n",
      "10 2000-01-01 00:00:00+00:00       2000Q1\n",
      "11 2000-01-01 00:00:00+00:00       2000Q1\n",
      "12 2000-01-01 00:00:00+00:00       2000Q1\n",
      "13 2000-01-01 00:00:00+00:00       2000Q1\n",
      "14 2000-01-01 00:00:00+00:00       2000Q1\n",
      "15 2000-01-01 00:00:00+00:00       2000Q1\n",
      "16 2000-01-01 00:00:00+00:00       2000Q1\n",
      "17 2000-01-01 00:00:00+00:00       2000Q1\n",
      "18 2000-01-01 00:00:00+00:00       2000Q1\n",
      "19 2000-01-01 00:00:00+00:00       2000Q1\n",
      "20 2000-01-01 00:00:00+00:00       2000Q1\n",
      "21 2000-01-01 00:00:00+00:00       2000Q1\n",
      "22 2000-04-01 00:00:00+00:00       2000Q2\n",
      "23 2000-04-01 00:00:00+00:00       2000Q2\n",
      "24 2000-04-01 00:00:00+00:00       2000Q2\n",
      "25 2000-04-01 00:00:00+00:00       2000Q2\n",
      "26 2000-04-01 00:00:00+00:00       2000Q2\n",
      "27 2000-04-01 00:00:00+00:00       2000Q2\n",
      "28 2000-04-01 00:00:00+00:00       2000Q2\n",
      "29 2000-04-01 00:00:00+00:00       2000Q2\n",
      "30 2000-04-01 00:00:00+00:00       2000Q2\n",
      "31 2000-04-01 00:00:00+00:00       2000Q2\n",
      "32 2000-04-01 00:00:00+00:00       2000Q2\n",
      "33 2000-07-01 00:00:00+00:00       2000Q3\n",
      "34 2000-07-01 00:00:00+00:00       2000Q3\n",
      "35 2000-07-01 00:00:00+00:00       2000Q3\n",
      "36 2000-07-01 00:00:00+00:00       2000Q3\n",
      "37 2000-07-01 00:00:00+00:00       2000Q3\n",
      "38 2000-07-01 00:00:00+00:00       2000Q3\n",
      "39 2000-07-01 00:00:00+00:00       2000Q3\n"
     ]
    }
   ],
   "source": [
    "print(df_rent_price_avg[['year', 'year_quarter']].head(40))\n"
   ]
  },
  {
   "cell_type": "code",
   "execution_count": 12,
   "metadata": {},
   "outputs": [
    {
     "data": {
      "text/html": [
       "<div>\n",
       "<style scoped>\n",
       "    .dataframe tbody tr th:only-of-type {\n",
       "        vertical-align: middle;\n",
       "    }\n",
       "\n",
       "    .dataframe tbody tr th {\n",
       "        vertical-align: top;\n",
       "    }\n",
       "\n",
       "    .dataframe thead th {\n",
       "        text-align: right;\n",
       "    }\n",
       "</style>\n",
       "<table border=\"1\" class=\"dataframe\">\n",
       "  <thead>\n",
       "    <tr style=\"text-align: right;\">\n",
       "      <th></th>\n",
       "      <th>year</th>\n",
       "      <th>territory</th>\n",
       "      <th>territory_order</th>\n",
       "      <th>territory_type</th>\n",
       "      <th>average_rent_price</th>\n",
       "      <th>year_quarter</th>\n",
       "    </tr>\n",
       "  </thead>\n",
       "  <tbody>\n",
       "    <tr>\n",
       "      <th>0</th>\n",
       "      <td>2000-01-01 00:00:00+00:00</td>\n",
       "      <td>Gràcia</td>\n",
       "      <td>6</td>\n",
       "      <td>Districte</td>\n",
       "      <td>348.617900</td>\n",
       "      <td>2000Q1</td>\n",
       "    </tr>\n",
       "    <tr>\n",
       "      <th>1</th>\n",
       "      <td>2000-01-01 00:00:00+00:00</td>\n",
       "      <td>Horta-Guinardó</td>\n",
       "      <td>7</td>\n",
       "      <td>Districte</td>\n",
       "      <td>320.278800</td>\n",
       "      <td>2000Q1</td>\n",
       "    </tr>\n",
       "    <tr>\n",
       "      <th>2</th>\n",
       "      <td>2000-01-01 00:00:00+00:00</td>\n",
       "      <td>Eixample</td>\n",
       "      <td>2</td>\n",
       "      <td>Districte</td>\n",
       "      <td>436.381771</td>\n",
       "      <td>2000Q1</td>\n",
       "    </tr>\n",
       "    <tr>\n",
       "      <th>3</th>\n",
       "      <td>2000-01-01 00:00:00+00:00</td>\n",
       "      <td>Sant Andreu</td>\n",
       "      <td>9</td>\n",
       "      <td>Districte</td>\n",
       "      <td>339.494251</td>\n",
       "      <td>2000Q1</td>\n",
       "    </tr>\n",
       "    <tr>\n",
       "      <th>4</th>\n",
       "      <td>2000-01-01 00:00:00+00:00</td>\n",
       "      <td>Sants-Montjuïc</td>\n",
       "      <td>3</td>\n",
       "      <td>Districte</td>\n",
       "      <td>312.987100</td>\n",
       "      <td>2000Q1</td>\n",
       "    </tr>\n",
       "  </tbody>\n",
       "</table>\n",
       "</div>"
      ],
      "text/plain": [
       "                       year       territory  territory_order territory_type  \\\n",
       "0 2000-01-01 00:00:00+00:00          Gràcia                6      Districte   \n",
       "1 2000-01-01 00:00:00+00:00  Horta-Guinardó                7      Districte   \n",
       "2 2000-01-01 00:00:00+00:00        Eixample                2      Districte   \n",
       "3 2000-01-01 00:00:00+00:00     Sant Andreu                9      Districte   \n",
       "4 2000-01-01 00:00:00+00:00  Sants-Montjuïc                3      Districte   \n",
       "\n",
       "   average_rent_price year_quarter  \n",
       "0          348.617900       2000Q1  \n",
       "1          320.278800       2000Q1  \n",
       "2          436.381771       2000Q1  \n",
       "3          339.494251       2000Q1  \n",
       "4          312.987100       2000Q1  "
      ]
     },
     "execution_count": 12,
     "metadata": {},
     "output_type": "execute_result"
    }
   ],
   "source": [
    "df_rent_price_avg.head()"
   ]
  },
  {
   "cell_type": "code",
   "execution_count": 13,
   "metadata": {},
   "outputs": [],
   "source": [
    "# SAVE THE csv data\n",
    "\n",
    "#df_rent_price_avg.to_csv('rent_price_avg.csv', index=False)\n"
   ]
  },
  {
   "cell_type": "code",
   "execution_count": 14,
   "metadata": {},
   "outputs": [
    {
     "data": {
      "text/plain": [
       "array(['Districte', 'Municipi', 'Comunitat Autònoma',\n",
       "       'Àmbit Funcional Territorial', 'Barri'], dtype=object)"
      ]
     },
     "execution_count": 14,
     "metadata": {},
     "output_type": "execute_result"
    }
   ],
   "source": [
    "df_rent_price_avg['territory_type'].unique()\n"
   ]
  },
  {
   "cell_type": "code",
   "execution_count": 15,
   "metadata": {},
   "outputs": [],
   "source": [
    "df_rent_price_avg['territory_type'] = df_rent_price_avg['territory_type'].replace({\n",
    "    'Districte': 'District',\n",
    "    'Municipi': 'Municipality',\n",
    "    'Comunitat Autònoma': 'Autonomous Community',\n",
    "    'Àmbit Funcional Territorial': 'Functional Territorial Area',\n",
    "    'Barri': 'Neighbourhood'\n",
    "})\n"
   ]
  },
  {
   "cell_type": "code",
   "execution_count": 16,
   "metadata": {},
   "outputs": [
    {
     "data": {
      "text/html": [
       "<div>\n",
       "<style scoped>\n",
       "    .dataframe tbody tr th:only-of-type {\n",
       "        vertical-align: middle;\n",
       "    }\n",
       "\n",
       "    .dataframe tbody tr th {\n",
       "        vertical-align: top;\n",
       "    }\n",
       "\n",
       "    .dataframe thead th {\n",
       "        text-align: right;\n",
       "    }\n",
       "</style>\n",
       "<table border=\"1\" class=\"dataframe\">\n",
       "  <thead>\n",
       "    <tr style=\"text-align: right;\">\n",
       "      <th></th>\n",
       "      <th>year</th>\n",
       "      <th>territory</th>\n",
       "      <th>territory_order</th>\n",
       "      <th>territory_type</th>\n",
       "      <th>average_rent_price</th>\n",
       "      <th>year_quarter</th>\n",
       "    </tr>\n",
       "  </thead>\n",
       "  <tbody>\n",
       "    <tr>\n",
       "      <th>0</th>\n",
       "      <td>2000-01-01 00:00:00+00:00</td>\n",
       "      <td>Gràcia</td>\n",
       "      <td>6</td>\n",
       "      <td>District</td>\n",
       "      <td>348.617900</td>\n",
       "      <td>2000Q1</td>\n",
       "    </tr>\n",
       "    <tr>\n",
       "      <th>1</th>\n",
       "      <td>2000-01-01 00:00:00+00:00</td>\n",
       "      <td>Horta-Guinardó</td>\n",
       "      <td>7</td>\n",
       "      <td>District</td>\n",
       "      <td>320.278800</td>\n",
       "      <td>2000Q1</td>\n",
       "    </tr>\n",
       "    <tr>\n",
       "      <th>2</th>\n",
       "      <td>2000-01-01 00:00:00+00:00</td>\n",
       "      <td>Eixample</td>\n",
       "      <td>2</td>\n",
       "      <td>District</td>\n",
       "      <td>436.381771</td>\n",
       "      <td>2000Q1</td>\n",
       "    </tr>\n",
       "    <tr>\n",
       "      <th>3</th>\n",
       "      <td>2000-01-01 00:00:00+00:00</td>\n",
       "      <td>Sant Andreu</td>\n",
       "      <td>9</td>\n",
       "      <td>District</td>\n",
       "      <td>339.494251</td>\n",
       "      <td>2000Q1</td>\n",
       "    </tr>\n",
       "    <tr>\n",
       "      <th>4</th>\n",
       "      <td>2000-01-01 00:00:00+00:00</td>\n",
       "      <td>Sants-Montjuïc</td>\n",
       "      <td>3</td>\n",
       "      <td>District</td>\n",
       "      <td>312.987100</td>\n",
       "      <td>2000Q1</td>\n",
       "    </tr>\n",
       "  </tbody>\n",
       "</table>\n",
       "</div>"
      ],
      "text/plain": [
       "                       year       territory  territory_order territory_type  \\\n",
       "0 2000-01-01 00:00:00+00:00          Gràcia                6       District   \n",
       "1 2000-01-01 00:00:00+00:00  Horta-Guinardó                7       District   \n",
       "2 2000-01-01 00:00:00+00:00        Eixample                2       District   \n",
       "3 2000-01-01 00:00:00+00:00     Sant Andreu                9       District   \n",
       "4 2000-01-01 00:00:00+00:00  Sants-Montjuïc                3       District   \n",
       "\n",
       "   average_rent_price year_quarter  \n",
       "0          348.617900       2000Q1  \n",
       "1          320.278800       2000Q1  \n",
       "2          436.381771       2000Q1  \n",
       "3          339.494251       2000Q1  \n",
       "4          312.987100       2000Q1  "
      ]
     },
     "execution_count": 16,
     "metadata": {},
     "output_type": "execute_result"
    }
   ],
   "source": [
    "df_rent_price_avg.head()"
   ]
  },
  {
   "cell_type": "code",
   "execution_count": 17,
   "metadata": {},
   "outputs": [],
   "source": [
    "df_rent_prices_filtered = df_rent_price_avg[[\n",
    "    'territory',\n",
    "    'territory_order',\n",
    "    'territory_type',\n",
    "    'average_rent_price',\n",
    "    'year_quarter'\n",
    "]]\n",
    "\n",
    "df_rent_prices_filtered.to_csv(\"rent_prices_filtered.csv\", index=False, encoding='utf-8')\n"
   ]
  },
  {
   "cell_type": "markdown",
   "metadata": {},
   "source": [
    "## IMPORTING TO SQL"
   ]
  },
  {
   "cell_type": "code",
   "execution_count": 18,
   "metadata": {},
   "outputs": [],
   "source": [
    "df_rent_prices_filtered.to_csv(\"rent_prices_utf8_bom.csv\", index=False, encoding=\"utf-8-sig\")\n"
   ]
  },
  {
   "cell_type": "code",
   "execution_count": 3,
   "metadata": {},
   "outputs": [
    {
     "name": "stdout",
     "output_type": "stream",
     "text": [
      "0            Gràcia\n",
      "1    Horta-Guinardó\n",
      "2          Eixample\n",
      "3       Sant Andreu\n",
      "4    Sants-Montjuïc\n",
      "Name: territory, dtype: object\n"
     ]
    }
   ],
   "source": [
    "import pandas as pd\n",
    "\n",
    "# Read the original file (the one with correct characters inside Python)\n",
    "df = pd.read_csv(\"rent_prices_utf8_fixed.csv\")\n",
    "\n",
    "# Check: are characters displaying correctly here in Python?\n",
    "print(df[\"territory\"].head())\n"
   ]
  },
  {
   "cell_type": "code",
   "execution_count": 4,
   "metadata": {},
   "outputs": [
    {
     "data": {
      "text/plain": [
       "Index(['territory', 'territory_order', 'territory_type', 'average_rent_price',\n",
       "       'year_quarter'],\n",
       "      dtype='object')"
      ]
     },
     "execution_count": 4,
     "metadata": {},
     "output_type": "execute_result"
    }
   ],
   "source": [
    "df.columns"
   ]
  },
  {
   "cell_type": "code",
   "execution_count": 5,
   "metadata": {},
   "outputs": [
    {
     "data": {
      "text/html": [
       "<div>\n",
       "<style scoped>\n",
       "    .dataframe tbody tr th:only-of-type {\n",
       "        vertical-align: middle;\n",
       "    }\n",
       "\n",
       "    .dataframe tbody tr th {\n",
       "        vertical-align: top;\n",
       "    }\n",
       "\n",
       "    .dataframe thead th {\n",
       "        text-align: right;\n",
       "    }\n",
       "</style>\n",
       "<table border=\"1\" class=\"dataframe\">\n",
       "  <thead>\n",
       "    <tr style=\"text-align: right;\">\n",
       "      <th></th>\n",
       "      <th>territory</th>\n",
       "      <th>territory_order</th>\n",
       "      <th>territory_type</th>\n",
       "      <th>average_rent_price</th>\n",
       "      <th>year_quarter</th>\n",
       "    </tr>\n",
       "  </thead>\n",
       "  <tbody>\n",
       "    <tr>\n",
       "      <th>0</th>\n",
       "      <td>Gràcia</td>\n",
       "      <td>6</td>\n",
       "      <td>District</td>\n",
       "      <td>348.617900</td>\n",
       "      <td>2000Q1</td>\n",
       "    </tr>\n",
       "    <tr>\n",
       "      <th>1</th>\n",
       "      <td>Horta-Guinardó</td>\n",
       "      <td>7</td>\n",
       "      <td>District</td>\n",
       "      <td>320.278800</td>\n",
       "      <td>2000Q1</td>\n",
       "    </tr>\n",
       "    <tr>\n",
       "      <th>2</th>\n",
       "      <td>Eixample</td>\n",
       "      <td>2</td>\n",
       "      <td>District</td>\n",
       "      <td>436.381771</td>\n",
       "      <td>2000Q1</td>\n",
       "    </tr>\n",
       "    <tr>\n",
       "      <th>3</th>\n",
       "      <td>Sant Andreu</td>\n",
       "      <td>9</td>\n",
       "      <td>District</td>\n",
       "      <td>339.494251</td>\n",
       "      <td>2000Q1</td>\n",
       "    </tr>\n",
       "    <tr>\n",
       "      <th>4</th>\n",
       "      <td>Sants-Montjuïc</td>\n",
       "      <td>3</td>\n",
       "      <td>District</td>\n",
       "      <td>312.987100</td>\n",
       "      <td>2000Q1</td>\n",
       "    </tr>\n",
       "  </tbody>\n",
       "</table>\n",
       "</div>"
      ],
      "text/plain": [
       "        territory  territory_order territory_type  average_rent_price  \\\n",
       "0          Gràcia                6       District          348.617900   \n",
       "1  Horta-Guinardó                7       District          320.278800   \n",
       "2        Eixample                2       District          436.381771   \n",
       "3     Sant Andreu                9       District          339.494251   \n",
       "4  Sants-Montjuïc                3       District          312.987100   \n",
       "\n",
       "  year_quarter  \n",
       "0       2000Q1  \n",
       "1       2000Q1  \n",
       "2       2000Q1  \n",
       "3       2000Q1  \n",
       "4       2000Q1  "
      ]
     },
     "execution_count": 5,
     "metadata": {},
     "output_type": "execute_result"
    }
   ],
   "source": [
    "df.head()"
   ]
  },
  {
   "cell_type": "code",
   "execution_count": 2,
   "metadata": {},
   "outputs": [],
   "source": [
    "df.to_csv(\"rent_prices_utf8_fixed.csv\", index=False, encoding=\"utf-8-sig\")\n"
   ]
  },
  {
   "cell_type": "code",
   "execution_count": null,
   "metadata": {},
   "outputs": [],
   "source": []
  },
  {
   "cell_type": "code",
   "execution_count": null,
   "metadata": {},
   "outputs": [],
   "source": []
  }
 ],
 "metadata": {
  "kernelspec": {
   "display_name": "base",
   "language": "python",
   "name": "python3"
  },
  "language_info": {
   "codemirror_mode": {
    "name": "ipython",
    "version": 3
   },
   "file_extension": ".py",
   "mimetype": "text/x-python",
   "name": "python",
   "nbconvert_exporter": "python",
   "pygments_lexer": "ipython3",
   "version": "3.12.4"
  }
 },
 "nbformat": 4,
 "nbformat_minor": 2
}
