{
 "cells": [
  {
   "cell_type": "code",
   "execution_count": 2,
   "metadata": {},
   "outputs": [
    {
     "name": "stdout",
     "output_type": "stream",
     "text": [
      "✅ API'den veri çekiliyor:\n",
      "✅ API'den veri çekildi:\n",
      "           Dim-00:TEMPS Dim-01:TERRITORI  Dim-01:TERRITORI (order)  \\\n",
      "0  1981-01-01T00:00:00Z        Barcelona                         1   \n",
      "1  1981-01-01T00:00:00Z        Barcelona                         1   \n",
      "2  1981-01-01T00:00:00Z        Barcelona                         1   \n",
      "3  1991-01-01T00:00:00Z        Barcelona                         1   \n",
      "4  1991-01-01T00:00:00Z  Horta-GuinardÃ³                         7   \n",
      "\n",
      "  Dim-01:TERRITORI (type) Dim-02:RÃGIM DE TINENÃA     VALUE  \n",
      "0                Municipi                   Lloguer  268881.0  \n",
      "1                Municipi                 Propietat  287153.0  \n",
      "2                Municipi                    Altres   23797.0  \n",
      "3                Municipi                 Propietat  354477.0  \n",
      "4               Districte                   Lloguer   17872.0  \n"
     ]
    }
   ],
   "source": [
    "import requests\n",
    "import pandas as pd\n",
    "from io import StringIO\n",
    "\n",
    "url = \"https://portaldades.ajuntament.barcelona.cat/services/backend/rest/statistic/export?id=ydbku9mpnx&fileformat=CSV\"\n",
    "headers = {\"X-IBM-Client-Id\": \"f943a426a663183091a1401f55eec60d\"}\n",
    "\n",
    "response = requests.get(url, headers=headers)\n",
    "print(\"✅ API'den veri çekiliyor:\")\n",
    "\n",
    "if response.status_code == 200:\n",
    "    # Veriyi StringIO ile oku\n",
    "    data = StringIO(response.content.decode('latin1'))\n",
    "    df_tenure_regime = pd.read_csv(data, sep=',', encoding='latin1')  # SEP = ','\n",
    "else:\n",
    "    print(f\"Veri çekilemedi! Status code: {response.status_code}\")\n",
    "\n",
    "\n",
    "print(\"✅ API'den veri çekildi:\")\n",
    "print(df_tenure_regime.head())\n"
   ]
  },
  {
   "cell_type": "code",
   "execution_count": 3,
   "metadata": {},
   "outputs": [
    {
     "data": {
      "text/plain": [
       "Index(['Dim-00:TEMPS', 'Dim-01:TERRITORI', 'Dim-01:TERRITORI (order)',\n",
       "       'Dim-01:TERRITORI (type)', 'Dim-02:RÃGIM DE TINENÃA', 'VALUE'],\n",
       "      dtype='object')"
      ]
     },
     "execution_count": 3,
     "metadata": {},
     "output_type": "execute_result"
    }
   ],
   "source": [
    "df_tenure_regime.columns"
   ]
  },
  {
   "cell_type": "code",
   "execution_count": 4,
   "metadata": {},
   "outputs": [],
   "source": [
    "df_tenure_regime.rename(columns={\n",
    "    'Dim-00:TEMPS': 'year',\n",
    "    'Dim-01:TERRITORI': 'territory',\n",
    "    'Dim-01:TERRITORI (order)': 'territory_order',\n",
    "    'Dim-01:TERRITORI (type)': 'territory_type',\n",
    "    'Dim-02:RÃGIM DE TINENÃA': 'tenure_regime',\n",
    "    'VALUE': 'num_main_homes'\n",
    "}, inplace=True)\n"
   ]
  },
  {
   "cell_type": "code",
   "execution_count": 5,
   "metadata": {},
   "outputs": [
    {
     "data": {
      "text/html": [
       "<div>\n",
       "<style scoped>\n",
       "    .dataframe tbody tr th:only-of-type {\n",
       "        vertical-align: middle;\n",
       "    }\n",
       "\n",
       "    .dataframe tbody tr th {\n",
       "        vertical-align: top;\n",
       "    }\n",
       "\n",
       "    .dataframe thead th {\n",
       "        text-align: right;\n",
       "    }\n",
       "</style>\n",
       "<table border=\"1\" class=\"dataframe\">\n",
       "  <thead>\n",
       "    <tr style=\"text-align: right;\">\n",
       "      <th></th>\n",
       "      <th>year</th>\n",
       "      <th>territory</th>\n",
       "      <th>territory_order</th>\n",
       "      <th>territory_type</th>\n",
       "      <th>tenure_regime</th>\n",
       "      <th>num_main_homes</th>\n",
       "    </tr>\n",
       "  </thead>\n",
       "  <tbody>\n",
       "    <tr>\n",
       "      <th>0</th>\n",
       "      <td>1981-01-01T00:00:00Z</td>\n",
       "      <td>Barcelona</td>\n",
       "      <td>1</td>\n",
       "      <td>Municipi</td>\n",
       "      <td>Lloguer</td>\n",
       "      <td>268881.0</td>\n",
       "    </tr>\n",
       "    <tr>\n",
       "      <th>1</th>\n",
       "      <td>1981-01-01T00:00:00Z</td>\n",
       "      <td>Barcelona</td>\n",
       "      <td>1</td>\n",
       "      <td>Municipi</td>\n",
       "      <td>Propietat</td>\n",
       "      <td>287153.0</td>\n",
       "    </tr>\n",
       "    <tr>\n",
       "      <th>2</th>\n",
       "      <td>1981-01-01T00:00:00Z</td>\n",
       "      <td>Barcelona</td>\n",
       "      <td>1</td>\n",
       "      <td>Municipi</td>\n",
       "      <td>Altres</td>\n",
       "      <td>23797.0</td>\n",
       "    </tr>\n",
       "    <tr>\n",
       "      <th>3</th>\n",
       "      <td>1991-01-01T00:00:00Z</td>\n",
       "      <td>Barcelona</td>\n",
       "      <td>1</td>\n",
       "      <td>Municipi</td>\n",
       "      <td>Propietat</td>\n",
       "      <td>354477.0</td>\n",
       "    </tr>\n",
       "    <tr>\n",
       "      <th>4</th>\n",
       "      <td>1991-01-01T00:00:00Z</td>\n",
       "      <td>Horta-GuinardÃ³</td>\n",
       "      <td>7</td>\n",
       "      <td>Districte</td>\n",
       "      <td>Lloguer</td>\n",
       "      <td>17872.0</td>\n",
       "    </tr>\n",
       "  </tbody>\n",
       "</table>\n",
       "</div>"
      ],
      "text/plain": [
       "                   year        territory  territory_order territory_type  \\\n",
       "0  1981-01-01T00:00:00Z        Barcelona                1       Municipi   \n",
       "1  1981-01-01T00:00:00Z        Barcelona                1       Municipi   \n",
       "2  1981-01-01T00:00:00Z        Barcelona                1       Municipi   \n",
       "3  1991-01-01T00:00:00Z        Barcelona                1       Municipi   \n",
       "4  1991-01-01T00:00:00Z  Horta-GuinardÃ³                7      Districte   \n",
       "\n",
       "  tenure_regime  num_main_homes  \n",
       "0       Lloguer        268881.0  \n",
       "1     Propietat        287153.0  \n",
       "2        Altres         23797.0  \n",
       "3     Propietat        354477.0  \n",
       "4       Lloguer         17872.0  "
      ]
     },
     "execution_count": 5,
     "metadata": {},
     "output_type": "execute_result"
    }
   ],
   "source": [
    "df_tenure_regime.head()"
   ]
  },
  {
   "cell_type": "code",
   "execution_count": 6,
   "metadata": {},
   "outputs": [
    {
     "name": "stdout",
     "output_type": "stream",
     "text": [
      "The number of values for feature year :5 -- ['1981-01-01T00:00:00Z' '1991-01-01T00:00:00Z' '2001-01-01T00:00:00Z'\n",
      " '2011-01-01T00:00:00Z' '2021-01-01T00:00:00Z']\n",
      "The number of values for feature territory :83 -- ['Barcelona' 'BarÃ³ de Viver' 'Can BarÃ³' 'Can Peguera' 'Canyelles'\n",
      " 'Ciutat Meridiana' 'Ciutat Vella'\n",
      " 'Diagonal Mar i el Front MarÃ\\xadtim del Poblenou' 'Eixample'\n",
      " 'GrÃ\\xa0cia' 'Horta' 'Horta-GuinardÃ³' 'Hostafrancs' 'Les Corts'\n",
      " 'Montbau' 'Navas' 'Nou Barris' 'Pedralbes' 'Porta'\n",
      " 'ProvenÃ§als del Poblenou' 'Sant Andreu' 'Sant Antoni'\n",
      " 'Sant GenÃ\\xads dels Agudells' 'Sant Gervasi - Galvany'\n",
      " 'Sant Gervasi - la Bonanova' 'Sant MartÃ\\xad'\n",
      " 'Sant MartÃ\\xad de ProvenÃ§als' 'Sant Pere, Santa Caterina i la Ribera'\n",
      " 'Sants' 'Sants - Badal' 'Sants-MontjuÃ¯c' 'SarriÃ\\xa0'\n",
      " 'SarriÃ\\xa0-Sant Gervasi' 'Torre BarÃ³' 'Vallbona'\n",
      " 'Vallcarca i els Penitents' 'Vallvidrera, el Tibidabo i les Planes'\n",
      " 'Verdun' 'Vilapicina i la Torre Llobeta' 'el Baix GuinardÃ³'\n",
      " 'el Barri GÃ²tic' 'el BesÃ²s i el Maresme' 'el Bon Pastor'\n",
      " \"el Camp d'en Grassot i GrÃ\\xa0cia Nova\" \"el Camp de l'Arpa del Clot\"\n",
      " 'el Carmel' 'el Clot' 'el Coll' 'el CongrÃ©s i els Indians'\n",
      " 'el Fort Pienc' 'el GuinardÃ³' 'el Parc i la Llacuna del Poblenou'\n",
      " 'el Poble-sec' 'el Poblenou' 'el Putxet i el FarrÃ³' 'el Raval'\n",
      " 'el TurÃ³ de la Peira' \"l'Antiga Esquerra de l'Eixample\" 'la Barceloneta'\n",
      " 'la Bordeta' 'la Clota' \"la Dreta de l'Eixample\" \"la Font d'en Fargues\"\n",
      " 'la Font de la Guatlla' 'la Guineueta' 'la Marina de Port'\n",
      " 'la Marina del Prat Vermell' 'la Maternitat i Sant Ramon'\n",
      " \"la Nova Esquerra de l'Eixample\" 'la Prosperitat'\n",
      " 'la Sagrada FamÃ\\xadlia' 'la Sagrera' 'la Salut' 'la Teixonera'\n",
      " 'la Trinitat Nova' 'la Trinitat Vella' \"la Vall d'Hebron\"\n",
      " 'la Verneda i la Pau' 'la Vila OlÃ\\xadmpica del Poblenou'\n",
      " 'la Vila de GrÃ\\xa0cia' 'les Corts' 'les Roquetes' 'les Tres Torres']\n",
      "The number of values for feature territory_order :73 -- [ 1  2  3  4  5  6  7  8  9 10 11 12 13 14 15 16 17 18 19 20 21 22 23 24\n",
      " 25 26 27 28 29 30 31 32 33 34 35 36 37 38 39 40 41 42 43 44 45 46 47 48\n",
      " 49 50 51 52 53 54 55 56 57 58 59 60 61 62 63 64 65 66 67 68 69 70 71 72\n",
      " 73]\n",
      "The number of values for feature territory_type :3 -- ['Barri' 'Districte' 'Municipi']\n",
      "The number of values for feature tenure_regime :3 -- ['Altres' 'Lloguer' 'Propietat']\n",
      "The number of values for feature num_main_homes :343\n"
     ]
    }
   ],
   "source": [
    "import numpy as np\n",
    "for column in df_tenure_regime:\n",
    "    unique_vals = np.unique(df_tenure_regime[column].fillna('0'))\n",
    "    nr_values = len(unique_vals)\n",
    "    if nr_values <= 85:\n",
    "        print(\"The number of values for feature {} :{} -- {}\".format(column, nr_values, unique_vals))\n",
    "    else:\n",
    "        print(\"The number of values for feature {} :{}\".format(column, nr_values))"
   ]
  },
  {
   "cell_type": "code",
   "execution_count": null,
   "metadata": {},
   "outputs": [],
   "source": [
    "df_tenure_regime['territory'] = df_tenure_regime['territory'].str.encode('latin1').str.decode('utf-8')\n",
    "df_tenure_regime['territory_type'] = df_tenure_regime['territory_type'].str.encode('latin1').str.decode('utf-8')"
   ]
  },
  {
   "cell_type": "code",
   "execution_count": 8,
   "metadata": {},
   "outputs": [
    {
     "name": "stdout",
     "output_type": "stream",
     "text": [
      "['Barcelona' 'Horta-Guinardó' 'Ciutat Vella' 'Nou Barris' 'Sants-Montjuïc'\n",
      " 'Sant Martí' 'Gràcia' 'Eixample' 'Sant Andreu' 'Les Corts']\n",
      "['Municipi' 'Districte' 'Barri']\n"
     ]
    }
   ],
   "source": [
    "print(df_tenure_regime['territory'].unique()[:10])\n",
    "print(df_tenure_regime['territory_type'].unique())\n"
   ]
  },
  {
   "cell_type": "code",
   "execution_count": 9,
   "metadata": {},
   "outputs": [
    {
     "name": "stdout",
     "output_type": "stream",
     "text": [
      "['1981-01-01T00:00:00Z', '1991-01-01T00:00:00Z', '2001-01-01T00:00:00Z', '2011-01-01T00:00:00Z', '2021-01-01T00:00:00Z']\n"
     ]
    }
   ],
   "source": [
    "print(sorted(df_tenure_regime['year'].unique()))"
   ]
  },
  {
   "cell_type": "code",
   "execution_count": 10,
   "metadata": {},
   "outputs": [],
   "source": [
    "df_tenure_regime['year'] = pd.to_datetime(df_tenure_regime['year'], errors='coerce').dt.year"
   ]
  },
  {
   "cell_type": "code",
   "execution_count": 11,
   "metadata": {},
   "outputs": [
    {
     "name": "stdout",
     "output_type": "stream",
     "text": [
      "[1981, 1991, 2001, 2011, 2021]\n"
     ]
    }
   ],
   "source": [
    "print(sorted(df_tenure_regime['year'].unique()))"
   ]
  },
  {
   "cell_type": "code",
   "execution_count": 12,
   "metadata": {},
   "outputs": [
    {
     "data": {
      "text/html": [
       "<div>\n",
       "<style scoped>\n",
       "    .dataframe tbody tr th:only-of-type {\n",
       "        vertical-align: middle;\n",
       "    }\n",
       "\n",
       "    .dataframe tbody tr th {\n",
       "        vertical-align: top;\n",
       "    }\n",
       "\n",
       "    .dataframe thead th {\n",
       "        text-align: right;\n",
       "    }\n",
       "</style>\n",
       "<table border=\"1\" class=\"dataframe\">\n",
       "  <thead>\n",
       "    <tr style=\"text-align: right;\">\n",
       "      <th></th>\n",
       "      <th>year</th>\n",
       "      <th>territory</th>\n",
       "      <th>territory_order</th>\n",
       "      <th>territory_type</th>\n",
       "      <th>tenure_regime</th>\n",
       "      <th>num_main_homes</th>\n",
       "    </tr>\n",
       "  </thead>\n",
       "  <tbody>\n",
       "    <tr>\n",
       "      <th>0</th>\n",
       "      <td>1981</td>\n",
       "      <td>Barcelona</td>\n",
       "      <td>1</td>\n",
       "      <td>Municipi</td>\n",
       "      <td>Lloguer</td>\n",
       "      <td>268881.0</td>\n",
       "    </tr>\n",
       "    <tr>\n",
       "      <th>1</th>\n",
       "      <td>1981</td>\n",
       "      <td>Barcelona</td>\n",
       "      <td>1</td>\n",
       "      <td>Municipi</td>\n",
       "      <td>Propietat</td>\n",
       "      <td>287153.0</td>\n",
       "    </tr>\n",
       "    <tr>\n",
       "      <th>2</th>\n",
       "      <td>1981</td>\n",
       "      <td>Barcelona</td>\n",
       "      <td>1</td>\n",
       "      <td>Municipi</td>\n",
       "      <td>Altres</td>\n",
       "      <td>23797.0</td>\n",
       "    </tr>\n",
       "    <tr>\n",
       "      <th>3</th>\n",
       "      <td>1991</td>\n",
       "      <td>Barcelona</td>\n",
       "      <td>1</td>\n",
       "      <td>Municipi</td>\n",
       "      <td>Propietat</td>\n",
       "      <td>354477.0</td>\n",
       "    </tr>\n",
       "    <tr>\n",
       "      <th>4</th>\n",
       "      <td>1991</td>\n",
       "      <td>Horta-Guinardó</td>\n",
       "      <td>7</td>\n",
       "      <td>Districte</td>\n",
       "      <td>Lloguer</td>\n",
       "      <td>17872.0</td>\n",
       "    </tr>\n",
       "  </tbody>\n",
       "</table>\n",
       "</div>"
      ],
      "text/plain": [
       "   year       territory  territory_order territory_type tenure_regime  \\\n",
       "0  1981       Barcelona                1       Municipi       Lloguer   \n",
       "1  1981       Barcelona                1       Municipi     Propietat   \n",
       "2  1981       Barcelona                1       Municipi        Altres   \n",
       "3  1991       Barcelona                1       Municipi     Propietat   \n",
       "4  1991  Horta-Guinardó                7      Districte       Lloguer   \n",
       "\n",
       "   num_main_homes  \n",
       "0        268881.0  \n",
       "1        287153.0  \n",
       "2         23797.0  \n",
       "3        354477.0  \n",
       "4         17872.0  "
      ]
     },
     "execution_count": 12,
     "metadata": {},
     "output_type": "execute_result"
    }
   ],
   "source": [
    "df_tenure_regime.head()"
   ]
  },
  {
   "cell_type": "code",
   "execution_count": 13,
   "metadata": {},
   "outputs": [
    {
     "data": {
      "text/plain": [
       "array(['Lloguer', 'Propietat', 'Altres'], dtype=object)"
      ]
     },
     "execution_count": 13,
     "metadata": {},
     "output_type": "execute_result"
    }
   ],
   "source": [
    "df_tenure_regime['tenure_regime'].unique()"
   ]
  },
  {
   "cell_type": "code",
   "execution_count": 14,
   "metadata": {},
   "outputs": [],
   "source": [
    "df_tenure_regime['tenure_regime'] = df_tenure_regime['tenure_regime'].replace({\n",
    "    'Lloguer': 'Rent',\n",
    "    'Propietat': 'Ownership',\n",
    "    'Altres': 'Other'\n",
    "})\n"
   ]
  },
  {
   "cell_type": "code",
   "execution_count": 15,
   "metadata": {},
   "outputs": [
    {
     "name": "stdout",
     "output_type": "stream",
     "text": [
      "['Rent' 'Ownership' 'Other']\n"
     ]
    }
   ],
   "source": [
    "print(df_tenure_regime['tenure_regime'].unique())"
   ]
  },
  {
   "cell_type": "code",
   "execution_count": 16,
   "metadata": {},
   "outputs": [
    {
     "data": {
      "text/html": [
       "<div>\n",
       "<style scoped>\n",
       "    .dataframe tbody tr th:only-of-type {\n",
       "        vertical-align: middle;\n",
       "    }\n",
       "\n",
       "    .dataframe tbody tr th {\n",
       "        vertical-align: top;\n",
       "    }\n",
       "\n",
       "    .dataframe thead th {\n",
       "        text-align: right;\n",
       "    }\n",
       "</style>\n",
       "<table border=\"1\" class=\"dataframe\">\n",
       "  <thead>\n",
       "    <tr style=\"text-align: right;\">\n",
       "      <th></th>\n",
       "      <th>year</th>\n",
       "      <th>territory</th>\n",
       "      <th>territory_order</th>\n",
       "      <th>territory_type</th>\n",
       "      <th>tenure_regime</th>\n",
       "      <th>num_main_homes</th>\n",
       "    </tr>\n",
       "  </thead>\n",
       "  <tbody>\n",
       "    <tr>\n",
       "      <th>0</th>\n",
       "      <td>1981</td>\n",
       "      <td>Barcelona</td>\n",
       "      <td>1</td>\n",
       "      <td>Municipi</td>\n",
       "      <td>Rent</td>\n",
       "      <td>268881.0</td>\n",
       "    </tr>\n",
       "    <tr>\n",
       "      <th>1</th>\n",
       "      <td>1981</td>\n",
       "      <td>Barcelona</td>\n",
       "      <td>1</td>\n",
       "      <td>Municipi</td>\n",
       "      <td>Ownership</td>\n",
       "      <td>287153.0</td>\n",
       "    </tr>\n",
       "    <tr>\n",
       "      <th>2</th>\n",
       "      <td>1981</td>\n",
       "      <td>Barcelona</td>\n",
       "      <td>1</td>\n",
       "      <td>Municipi</td>\n",
       "      <td>Other</td>\n",
       "      <td>23797.0</td>\n",
       "    </tr>\n",
       "    <tr>\n",
       "      <th>3</th>\n",
       "      <td>1991</td>\n",
       "      <td>Barcelona</td>\n",
       "      <td>1</td>\n",
       "      <td>Municipi</td>\n",
       "      <td>Ownership</td>\n",
       "      <td>354477.0</td>\n",
       "    </tr>\n",
       "    <tr>\n",
       "      <th>4</th>\n",
       "      <td>1991</td>\n",
       "      <td>Horta-Guinardó</td>\n",
       "      <td>7</td>\n",
       "      <td>Districte</td>\n",
       "      <td>Rent</td>\n",
       "      <td>17872.0</td>\n",
       "    </tr>\n",
       "  </tbody>\n",
       "</table>\n",
       "</div>"
      ],
      "text/plain": [
       "   year       territory  territory_order territory_type tenure_regime  \\\n",
       "0  1981       Barcelona                1       Municipi          Rent   \n",
       "1  1981       Barcelona                1       Municipi     Ownership   \n",
       "2  1981       Barcelona                1       Municipi         Other   \n",
       "3  1991       Barcelona                1       Municipi     Ownership   \n",
       "4  1991  Horta-Guinardó                7      Districte          Rent   \n",
       "\n",
       "   num_main_homes  \n",
       "0        268881.0  \n",
       "1        287153.0  \n",
       "2         23797.0  \n",
       "3        354477.0  \n",
       "4         17872.0  "
      ]
     },
     "execution_count": 16,
     "metadata": {},
     "output_type": "execute_result"
    }
   ],
   "source": [
    "df_tenure_regime.head()"
   ]
  },
  {
   "cell_type": "code",
   "execution_count": 17,
   "metadata": {},
   "outputs": [],
   "source": [
    "df_tenure_regime.to_csv(\"tenure_regime_count.csv\", index=False, encoding='utf-8')\n"
   ]
  },
  {
   "cell_type": "code",
   "execution_count": null,
   "metadata": {},
   "outputs": [],
   "source": []
  }
 ],
 "metadata": {
  "kernelspec": {
   "display_name": "base",
   "language": "python",
   "name": "python3"
  },
  "language_info": {
   "codemirror_mode": {
    "name": "ipython",
    "version": 3
   },
   "file_extension": ".py",
   "mimetype": "text/x-python",
   "name": "python",
   "nbconvert_exporter": "python",
   "pygments_lexer": "ipython3",
   "version": "3.12.4"
  }
 },
 "nbformat": 4,
 "nbformat_minor": 2
}
