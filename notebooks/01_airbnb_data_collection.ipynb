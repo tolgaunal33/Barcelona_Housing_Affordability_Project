{
 "cells": [
  {
   "cell_type": "code",
   "execution_count": 2,
   "metadata": {},
   "outputs": [],
   "source": [
    "import requests\n",
    "import pandas as pd\n",
    "import os"
   ]
  },
  {
   "cell_type": "code",
   "execution_count": 3,
   "metadata": {},
   "outputs": [],
   "source": [
    "import requests"
   ]
  },
  {
   "cell_type": "code",
   "execution_count": 4,
   "metadata": {},
   "outputs": [],
   "source": [
    "# URL (replace with the latest from Inside Airbnb)\n",
    "url = \"https://data.insideairbnb.com/spain/catalonia/barcelona/2025-03-05/data/listings.csv.gz\"\n",
    "gz_filename = \"barcelona_listings.csv.gz\"\n",
    "csv_filename = \"barcelona_listings.csv\"\n"
   ]
  },
  {
   "cell_type": "code",
   "execution_count": 14,
   "metadata": {},
   "outputs": [
    {
     "name": "stdout",
     "output_type": "stream",
     "text": [
      "Download complete!\n"
     ]
    }
   ],
   "source": [
    "response = requests.get(url)\n",
    "if response.status_code == 200:\n",
    "    with open(gz_filename, 'wb') as f:\n",
    "        f.write(response.content)\n",
    "    print(\"Download complete!\")\n",
    "else:\n",
    "    print(f\"Failed to download. Status code: {response.status_code}\")"
   ]
  },
  {
   "cell_type": "code",
   "execution_count": 5,
   "metadata": {},
   "outputs": [
    {
     "name": "stdout",
     "output_type": "stream",
     "text": [
      "                        id                                       listing_url  \\\n",
      "19417  1366108822123777508  https://www.airbnb.com/rooms/1366108822123777508   \n",
      "19418  1366453124999573764  https://www.airbnb.com/rooms/1366453124999573764   \n",
      "19419  1366459989694212599  https://www.airbnb.com/rooms/1366459989694212599   \n",
      "19420  1366500461965716620  https://www.airbnb.com/rooms/1366500461965716620   \n",
      "19421  1366501139971684620  https://www.airbnb.com/rooms/1366501139971684620   \n",
      "\n",
      "            scrape_id last_scraped       source  \\\n",
      "19417  20250305023237   2025-03-06  city scrape   \n",
      "19418  20250305023237   2025-03-11  city scrape   \n",
      "19419  20250305023237   2025-03-07  city scrape   \n",
      "19420  20250305023237   2025-03-07  city scrape   \n",
      "19421  20250305023237   2025-03-10  city scrape   \n",
      "\n",
      "                                                name  \\\n",
      "19417                             Habitacion Privada   \n",
      "19418                Cozy Double Room in City Center   \n",
      "19419                   140. Poble Sec Ent Apartment   \n",
      "19420           Big Room with Work Desk - RDL0520003   \n",
      "19421  Your Boutique Mediterranean Stay in Barcelona   \n",
      "\n",
      "                                             description  \\\n",
      "19417  SHARED FLOOR OF 5 ROOMS, cosmopolitan atmosphe...   \n",
      "19418  Double room with double bed on shared floor, i...   \n",
      "19419  Apartment with 2 bedrooms and 1 bathroom in th...   \n",
      "19420  Newly renovated apartment with five bedrooms a...   \n",
      "19421  Your Boutique Mediterranean Stay | 6 Min to Sa...   \n",
      "\n",
      "                                   neighborhood_overview  \\\n",
      "19417                                                NaN   \n",
      "19418  The area between Urquinaona and Arc de Triomf,...   \n",
      "19419                                                NaN   \n",
      "19420                                                NaN   \n",
      "19421                                                NaN   \n",
      "\n",
      "                                             picture_url    host_id  ...  \\\n",
      "19417  https://a0.muscache.com/pictures/7d0b8e77-7724...  413160011  ...   \n",
      "19418  https://a0.muscache.com/pictures/miso/Hosting-...  534870364  ...   \n",
      "19419  https://a0.muscache.com/pictures/prohost-api/H...     396363  ...   \n",
      "19420  https://a0.muscache.com/pictures/miso/Hosting-...  518888520  ...   \n",
      "19421  https://a0.muscache.com/pictures/hosting/Hosti...  124887626  ...   \n",
      "\n",
      "      review_scores_communication review_scores_location review_scores_value  \\\n",
      "19417                         NaN                    NaN                 NaN   \n",
      "19418                         NaN                    NaN                 NaN   \n",
      "19419                         NaN                    NaN                 NaN   \n",
      "19420                         NaN                    NaN                 NaN   \n",
      "19421                         5.0                    5.0                 5.0   \n",
      "\n",
      "           license instant_bookable calculated_host_listings_count  \\\n",
      "19417       Exempt                f                              8   \n",
      "19418       Exempt                t                              6   \n",
      "19419          NaN                f                             75   \n",
      "19420          NaN                f                             98   \n",
      "19421  HUTB-003778                f                              1   \n",
      "\n",
      "      calculated_host_listings_count_entire_homes  \\\n",
      "19417                                           0   \n",
      "19418                                           0   \n",
      "19419                                          75   \n",
      "19420                                           8   \n",
      "19421                                           1   \n",
      "\n",
      "      calculated_host_listings_count_private_rooms  \\\n",
      "19417                                            8   \n",
      "19418                                            6   \n",
      "19419                                            0   \n",
      "19420                                           90   \n",
      "19421                                            0   \n",
      "\n",
      "      calculated_host_listings_count_shared_rooms reviews_per_month  \n",
      "19417                                           0               NaN  \n",
      "19418                                           0               NaN  \n",
      "19419                                           0               NaN  \n",
      "19420                                           0               NaN  \n",
      "19421                                           0               1.0  \n",
      "\n",
      "[5 rows x 79 columns]\n"
     ]
    }
   ],
   "source": [
    "# Load the data into a DataFrame\n",
    "listings_df = pd.read_csv(gz_filename)\n",
    "\n",
    "# Display the first few rows\n",
    "print(listings_df.tail())\n"
   ]
  },
  {
   "cell_type": "code",
   "execution_count": 8,
   "metadata": {},
   "outputs": [
    {
     "name": "stdout",
     "output_type": "stream",
     "text": [
      "Index(['id', 'listing_url', 'scrape_id', 'last_scraped', 'source', 'name',\n",
      "       'description', 'neighborhood_overview', 'picture_url', 'host_id',\n",
      "       'host_url', 'host_name', 'host_since', 'host_location', 'host_about',\n",
      "       'host_response_time', 'host_response_rate', 'host_acceptance_rate',\n",
      "       'host_is_superhost', 'host_thumbnail_url', 'host_picture_url',\n",
      "       'host_neighbourhood', 'host_listings_count',\n",
      "       'host_total_listings_count', 'host_verifications',\n",
      "       'host_has_profile_pic', 'host_identity_verified', 'neighbourhood',\n",
      "       'neighbourhood_cleansed', 'neighbourhood_group_cleansed', 'latitude',\n",
      "       'longitude', 'property_type', 'room_type', 'accommodates', 'bathrooms',\n",
      "       'bathrooms_text', 'bedrooms', 'beds', 'amenities', 'price',\n",
      "       'minimum_nights', 'maximum_nights', 'minimum_minimum_nights',\n",
      "       'maximum_minimum_nights', 'minimum_maximum_nights',\n",
      "       'maximum_maximum_nights', 'minimum_nights_avg_ntm',\n",
      "       'maximum_nights_avg_ntm', 'calendar_updated', 'has_availability',\n",
      "       'availability_30', 'availability_60', 'availability_90',\n",
      "       'availability_365', 'calendar_last_scraped', 'number_of_reviews',\n",
      "       'number_of_reviews_ltm', 'number_of_reviews_l30d', 'availability_eoy',\n",
      "       'number_of_reviews_ly', 'estimated_occupancy_l365d',\n",
      "       'estimated_revenue_l365d', 'first_review', 'last_review',\n",
      "       'review_scores_rating', 'review_scores_accuracy',\n",
      "       'review_scores_cleanliness', 'review_scores_checkin',\n",
      "       'review_scores_communication', 'review_scores_location',\n",
      "       'review_scores_value', 'license', 'instant_bookable',\n",
      "       'calculated_host_listings_count',\n",
      "       'calculated_host_listings_count_entire_homes',\n",
      "       'calculated_host_listings_count_private_rooms',\n",
      "       'calculated_host_listings_count_shared_rooms', 'reviews_per_month'],\n",
      "      dtype='object')\n"
     ]
    }
   ],
   "source": [
    "# Step 4: Check the data\n",
    "print(listings_df.columns)  # Check column names\n"
   ]
  },
  {
   "cell_type": "code",
   "execution_count": 9,
   "metadata": {},
   "outputs": [
    {
     "name": "stdout",
     "output_type": "stream",
     "text": [
      "<class 'pandas.core.frame.DataFrame'>\n",
      "RangeIndex: 19422 entries, 0 to 19421\n",
      "Data columns (total 79 columns):\n",
      " #   Column                                        Non-Null Count  Dtype  \n",
      "---  ------                                        --------------  -----  \n",
      " 0   id                                            19422 non-null  int64  \n",
      " 1   listing_url                                   19422 non-null  object \n",
      " 2   scrape_id                                     19422 non-null  int64  \n",
      " 3   last_scraped                                  19422 non-null  object \n",
      " 4   source                                        19422 non-null  object \n",
      " 5   name                                          19422 non-null  object \n",
      " 6   description                                   18676 non-null  object \n",
      " 7   neighborhood_overview                         9575 non-null   object \n",
      " 8   picture_url                                   19422 non-null  object \n",
      " 9   host_id                                       19422 non-null  int64  \n",
      " 10  host_url                                      19422 non-null  object \n",
      " 11  host_name                                     19415 non-null  object \n",
      " 12  host_since                                    19415 non-null  object \n",
      " 13  host_location                                 14919 non-null  object \n",
      " 14  host_about                                    12208 non-null  object \n",
      " 15  host_response_time                            16295 non-null  object \n",
      " 16  host_response_rate                            16295 non-null  object \n",
      " 17  host_acceptance_rate                          16655 non-null  object \n",
      " 18  host_is_superhost                             18868 non-null  object \n",
      " 19  host_thumbnail_url                            19415 non-null  object \n",
      " 20  host_picture_url                              19415 non-null  object \n",
      " 21  host_neighbourhood                            9501 non-null   object \n",
      " 22  host_listings_count                           19415 non-null  float64\n",
      " 23  host_total_listings_count                     19415 non-null  float64\n",
      " 24  host_verifications                            19415 non-null  object \n",
      " 25  host_has_profile_pic                          19415 non-null  object \n",
      " 26  host_identity_verified                        19415 non-null  object \n",
      " 27  neighbourhood                                 9575 non-null   object \n",
      " 28  neighbourhood_cleansed                        19422 non-null  object \n",
      " 29  neighbourhood_group_cleansed                  19422 non-null  object \n",
      " 30  latitude                                      19422 non-null  float64\n",
      " 31  longitude                                     19422 non-null  float64\n",
      " 32  property_type                                 19422 non-null  object \n",
      " 33  room_type                                     19422 non-null  object \n",
      " 34  accommodates                                  19422 non-null  int64  \n",
      " 35  bathrooms                                     15280 non-null  float64\n",
      " 36  bathrooms_text                                19411 non-null  object \n",
      " 37  bedrooms                                      17442 non-null  float64\n",
      " 38  beds                                          15214 non-null  float64\n",
      " 39  amenities                                     19422 non-null  object \n",
      " 40  price                                         15273 non-null  object \n",
      " 41  minimum_nights                                19422 non-null  int64  \n",
      " 42  maximum_nights                                19422 non-null  int64  \n",
      " 43  minimum_minimum_nights                        19420 non-null  float64\n",
      " 44  maximum_minimum_nights                        19420 non-null  float64\n",
      " 45  minimum_maximum_nights                        19420 non-null  float64\n",
      " 46  maximum_maximum_nights                        19420 non-null  float64\n",
      " 47  minimum_nights_avg_ntm                        19420 non-null  float64\n",
      " 48  maximum_nights_avg_ntm                        19420 non-null  float64\n",
      " 49  calendar_updated                              0 non-null      float64\n",
      " 50  has_availability                              18341 non-null  object \n",
      " 51  availability_30                               19422 non-null  int64  \n",
      " 52  availability_60                               19422 non-null  int64  \n",
      " 53  availability_90                               19422 non-null  int64  \n",
      " 54  availability_365                              19422 non-null  int64  \n",
      " 55  calendar_last_scraped                         19422 non-null  object \n",
      " 56  number_of_reviews                             19422 non-null  int64  \n",
      " 57  number_of_reviews_ltm                         19422 non-null  int64  \n",
      " 58  number_of_reviews_l30d                        19422 non-null  int64  \n",
      " 59  availability_eoy                              19422 non-null  int64  \n",
      " 60  number_of_reviews_ly                          19422 non-null  int64  \n",
      " 61  estimated_occupancy_l365d                     19422 non-null  int64  \n",
      " 62  estimated_revenue_l365d                       15273 non-null  float64\n",
      " 63  first_review                                  14513 non-null  object \n",
      " 64  last_review                                   14513 non-null  object \n",
      " 65  review_scores_rating                          14513 non-null  float64\n",
      " 66  review_scores_accuracy                        14510 non-null  float64\n",
      " 67  review_scores_cleanliness                     14511 non-null  float64\n",
      " 68  review_scores_checkin                         14509 non-null  float64\n",
      " 69  review_scores_communication                   14512 non-null  float64\n",
      " 70  review_scores_location                        14510 non-null  float64\n",
      " 71  review_scores_value                           14510 non-null  float64\n",
      " 72  license                                       13200 non-null  object \n",
      " 73  instant_bookable                              19422 non-null  object \n",
      " 74  calculated_host_listings_count                19422 non-null  int64  \n",
      " 75  calculated_host_listings_count_entire_homes   19422 non-null  int64  \n",
      " 76  calculated_host_listings_count_private_rooms  19422 non-null  int64  \n",
      " 77  calculated_host_listings_count_shared_rooms   19422 non-null  int64  \n",
      " 78  reviews_per_month                             14513 non-null  float64\n",
      "dtypes: float64(23), int64(20), object(36)\n",
      "memory usage: 11.7+ MB\n"
     ]
    }
   ],
   "source": [
    "listings_df.info()  # Check basic info"
   ]
  },
  {
   "cell_type": "code",
   "execution_count": 18,
   "metadata": {},
   "outputs": [
    {
     "name": "stdout",
     "output_type": "stream",
     "text": [
      "✅ Saved extracted CSV as 'barcelona_listings.csv'\n"
     ]
    }
   ],
   "source": [
    "# Step 5: Save the raw data to a CSV file\n",
    "listings_df.to_csv(csv_filename, index=False)\n",
    "print(f\"✅ Saved extracted CSV as '{csv_filename}'\")"
   ]
  },
  {
   "cell_type": "code",
   "execution_count": null,
   "metadata": {},
   "outputs": [
    {
     "name": "stdout",
     "output_type": "stream",
     "text": [
      "['la Sagrada Família' 'el Besòs i el Maresme'\n",
      " \"el Camp d'en Grassot i Gràcia Nova\" 'el Barri Gòtic' 'la Barceloneta'\n",
      " \"la Dreta de l'Eixample\" 'el Poble Sec' 'el Raval'\n",
      " 'la Vila Olímpica del Poblenou' 'les Corts' \"el Camp de l'Arpa del Clot\"\n",
      " 'Vallcarca i els Penitents' 'el Poblenou' 'la Vila de Gràcia'\n",
      " 'el Parc i la Llacuna del Poblenou' 'el Fort Pienc'\n",
      " \"la Nova Esquerra de l'Eixample\" 'Sant Pere, Santa Caterina i la Ribera'\n",
      " 'el Clot' 'Sant Antoni' 'Diagonal Mar i el Front Marítim del Poblenou'\n",
      " 'el Coll' 'Sants' 'el Putxet i el Farró'\n",
      " \"l'Antiga Esquerra de l'Eixample\" 'Pedralbes' 'el Guinardó'\n",
      " 'Sant Gervasi - Galvany' 'Sants - Badal' 'el Congrés i els Indians'\n",
      " 'Sant Martí de Provençals' 'Navas' 'el Baix Guinardó' 'la Bordeta'\n",
      " 'Sarrià' 'la Maternitat i Sant Ramon' 'la Prosperitat' 'Hostafrancs'\n",
      " 'el Turó de la Peira' 'Provençals del Poblenou' \"la Font d'en Fargues\"\n",
      " 'el Carmel' 'la Salut' 'la Trinitat Vella' 'la Font de la Guatlla'\n",
      " 'Sant Gervasi - la Bonanova' 'les Tres Torres'\n",
      " 'Vallvidrera, el Tibidabo i les Planes' 'la Teixonera' 'Can Baró'\n",
      " 'la Verneda i la Pau' 'la Marina del Prat Vermell' 'la Marina de Port'\n",
      " 'Porta' 'Vilapicina i la Torre Llobeta' 'la Sagrera' 'Sant Andreu'\n",
      " 'Verdun' 'la Guineueta' 'el Bon Pastor' 'Horta' \"la Vall d'Hebron\"\n",
      " 'les Roquetes' 'Sant Genís dels Agudells' 'Can Peguera' 'Torre Baró'\n",
      " 'Montbau' 'la Trinitat Nova' 'la Clota' 'Canyelles' 'Baró de Viver']\n"
     ]
    }
   ],
   "source": [
    "print(listings_df['neighbourhood_cleansed'].unique()) # BARRIOS Unicos "
   ]
  },
  {
   "cell_type": "code",
   "execution_count": null,
   "metadata": {},
   "outputs": [
    {
     "name": "stdout",
     "output_type": "stream",
     "text": [
      "['Eixample' 'Sant Martí' 'Gràcia' 'Ciutat Vella' 'Sants-Montjuïc'\n",
      " 'Les Corts' 'Sarrià-Sant Gervasi' 'Horta-Guinardó' 'Sant Andreu'\n",
      " 'Nou Barris']\n"
     ]
    }
   ],
   "source": [
    "print(listings_df['neighbourhood_group_cleansed'].unique()) # DISTRICTS "
   ]
  },
  {
   "cell_type": "code",
   "execution_count": null,
   "metadata": {},
   "outputs": [],
   "source": []
  }
 ],
 "metadata": {
  "kernelspec": {
   "display_name": "base",
   "language": "python",
   "name": "python3"
  },
  "language_info": {
   "codemirror_mode": {
    "name": "ipython",
    "version": 3
   },
   "file_extension": ".py",
   "mimetype": "text/x-python",
   "name": "python",
   "nbconvert_exporter": "python",
   "pygments_lexer": "ipython3",
   "version": "3.12.4"
  }
 },
 "nbformat": 4,
 "nbformat_minor": 2
}
