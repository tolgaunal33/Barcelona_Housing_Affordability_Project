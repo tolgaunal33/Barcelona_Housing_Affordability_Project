{
 "cells": [
  {
   "cell_type": "code",
   "execution_count": 1,
   "metadata": {},
   "outputs": [],
   "source": [
    "import requests\n",
    "import pandas as pd"
   ]
  },
  {
   "cell_type": "code",
   "execution_count": 2,
   "metadata": {},
   "outputs": [
    {
     "name": "stdout",
     "output_type": "stream",
     "text": [
      "  Codi_Districte Nom_Districte Codi_Barri Nom_Barri AEB Seccio_Censal Valor  \\\n",
      "0              1  Ciutat Vella          1  el Raval   1          1001  1092   \n",
      "1              1  Ciutat Vella          1  el Raval   1          1002  1209   \n",
      "2              1  Ciutat Vella          1  el Raval   2          1003  2129   \n",
      "3              1  Ciutat Vella          1  el Raval   2          1004  2028   \n",
      "4              1  Ciutat Vella          1  el Raval   3          1005  1893   \n",
      "\n",
      "       Data_Referencia  _id  year  \n",
      "0  1997-01-01T00:00:00    1  1997  \n",
      "1  1997-01-01T00:00:00    2  1997  \n",
      "2  1997-01-01T00:00:00    3  1997  \n",
      "3  1997-01-01T00:00:00    4  1997  \n",
      "4  1997-01-01T00:00:00    5  1997  \n"
     ]
    }
   ],
   "source": [
    "# Yıllara ait resource_id'lerin listesi\n",
    "resource_ids = {\n",
    "    '1997': 'ace48328-c14f-4d67-afe9-ce1bd8057ccc',\n",
    "    '1998': 'd96b8438-9bc2-4e75-8d70-9e1374dc0983',\n",
    "    '1999': 'cb5f9b6d-0e6c-4d35-bf2c-986e461d0825',\n",
    "    '2000': '3c21fd04-5f98-41ce-b1cb-56e2b7cf0c84',\n",
    "    '2001': '8a602477-d724-4a82-9b87-3e42dba55040',\n",
    "    '2002': '411c5de4-6b6d-4228-b159-4c1d96b8e2cb',\n",
    "    '2003': '816ec8d3-43b4-4da0-864f-384ef6e6f6a7',\n",
    "    '2004': 'ec2bb3d2-43ba-4cc4-bb3a-73c7e1f9c9c3',\n",
    "    '2005': 'dda2e7a6-6396-4e4d-b4c8-77339b5ebec9',\n",
    "    '2006': '2e9f6b57-6062-4cf6-b248-7022659919d7',\n",
    "    '2007': 'd0d7d48c-a5b3-461c-a34d-126f6c7ddcfb',\n",
    "    '2008': 'f27d1abd-09cb-4f96-a47d-c62d058bd092',\n",
    "    '2009': 'a5f76082-6e0d-4e89-acee-94a24e8d920c',\n",
    "    '2010': '5af14703-b2c5-4227-b773-0bc5516e7250',\n",
    "    '2011': '1b8695d0-276e-4df0-86fd-ff0ac0ce0d6a',\n",
    "    '2012': 'e9600a47-b0b3-4495-b28e-3f2093822f71',\n",
    "    '2013': '5143d709-419d-40d4-97f6-0eb65396298c',\n",
    "    '2014': '2edf0aab-7751-4a1d-b7b5-780079c85110',\n",
    "    '2015': '68af79ac-1df8-481a-9d03-34e5ce72e238',\n",
    "    '2016': 'e32cf831-2ec5-4478-b3ea-6ea9adae5c5e',\n",
    "    '2017': '7b844962-fd60-49d0-9604-1ba4711f1450',\n",
    "    '2018': 'c661f45e-a959-4193-8ff5-43a728b2bb9c',\n",
    "    '2019': 'd1260b9e-5009-4afc-85f2-79baf4c0d91b',\n",
    "    '2020': '76907f41-31fb-4afc-b5df-ae0d06d99a37',\n",
    "    '2021': '8b1f1cb6-14d1-4227-b03f-111bb721f82c',\n",
    "    '2022': '78b965d3-b2dc-4f23-91b9-59caa45bc334',\n",
    "    '2023': 'f70020ae-c41a-438d-8983-a372628c197b',\n",
    "    '2024': 'fc597601-a291-4811-ad02-c58e32784692'\n",
    "}\n",
    "\n",
    "\n",
    "# Boş bir DataFrame oluştur\n",
    "all_data = pd.DataFrame()\n",
    "\n",
    "# Her yılın verisini çek ve birleştir\n",
    "for year, res_id in resource_ids.items():\n",
    "    url = f'https://opendata-ajuntament.barcelona.cat/data/api/action/datastore_search?resource_id={res_id}&limit=50000'\n",
    "    response = requests.get(url)\n",
    "    data = response.json()\n",
    "    records = data['result']['records']\n",
    "    df = pd.DataFrame.from_records(records)\n",
    "    df['year'] = year  # Yıla ait bilgiyi ekle\n",
    "    all_data = pd.concat([all_data, df], ignore_index=True)\n",
    "\n",
    "# Sonuçları kontrol et\n",
    "print(all_data.head())"
   ]
  },
  {
   "cell_type": "code",
   "execution_count": 3,
   "metadata": {},
   "outputs": [
    {
     "name": "stdout",
     "output_type": "stream",
     "text": [
      "The number of values for feature Codi_Districte :10 -- ['1' '10' '2' '3' '4' '5' '6' '7' '8' '9']\n",
      "The number of values for feature Nom_Districte :10 -- ['Ciutat Vella' 'Eixample' 'Gràcia' 'Horta-Guinardó' 'Les Corts'\n",
      " 'Nou Barris' 'Sant Andreu' 'Sant Martí' 'Sants-Montjuïc'\n",
      " 'Sarrià-Sant Gervasi']\n",
      "The number of values for feature Codi_Barri :73 -- ['1' '10' '11' '12' '13' '14' '15' '16' '17' '18' '19' '2' '20' '21' '22'\n",
      " '23' '24' '25' '26' '27' '28' '29' '3' '30' '31' '32' '33' '34' '35' '36'\n",
      " '37' '38' '39' '4' '40' '41' '42' '43' '44' '45' '46' '47' '48' '49' '5'\n",
      " '50' '51' '52' '53' '54' '55' '56' '57' '58' '59' '6' '60' '61' '62' '63'\n",
      " '64' '65' '66' '67' '68' '69' '7' '70' '71' '72' '73' '8' '9']\n",
      "The number of values for feature Nom_Barri :73 -- ['Baró de Viver' 'Can Baró' 'Can Peguera' 'Canyelles' 'Ciutat Meridiana'\n",
      " 'Diagonal Mar i el Front Marítim del Poblenou' 'Horta' 'Hostafrancs'\n",
      " 'Montbau' 'Navas' 'Pedralbes' 'Porta' 'Provençals del Poblenou'\n",
      " 'Sant Andreu' 'Sant Antoni' 'Sant Genís dels Agudells'\n",
      " 'Sant Gervasi - Galvany' 'Sant Gervasi - la Bonanova'\n",
      " 'Sant Martí de Provençals' 'Sant Pere, Santa Caterina i la Ribera'\n",
      " 'Sants' 'Sants - Badal' 'Sarrià' 'Torre Baró' 'Vallbona'\n",
      " 'Vallcarca i els Penitents' 'Vallvidrera, el Tibidabo i les Planes'\n",
      " 'Verdun' 'Vilapicina i la Torre Llobeta' 'el Baix Guinardó'\n",
      " 'el Barri Gòtic' 'el Besòs i el Maresme' 'el Bon Pastor'\n",
      " \"el Camp d'en Grassot i Gràcia Nova\" \"el Camp de l'Arpa del Clot\"\n",
      " 'el Carmel' 'el Clot' 'el Coll' 'el Congrés i els Indians'\n",
      " 'el Fort Pienc' 'el Guinardó' 'el Parc i la Llacuna del Poblenou'\n",
      " 'el Poble-sec' 'el Poblenou' 'el Putxet i el Farró' 'el Raval'\n",
      " 'el Turó de la Peira' \"l'Antiga Esquerra de l'Eixample\" 'la Barceloneta'\n",
      " 'la Bordeta' 'la Clota' \"la Dreta de l'Eixample\" \"la Font d'en Fargues\"\n",
      " 'la Font de la Guatlla' 'la Guineueta' 'la Marina de Port'\n",
      " 'la Marina del Prat Vermell' 'la Maternitat i Sant Ramon'\n",
      " \"la Nova Esquerra de l'Eixample\" 'la Prosperitat' 'la Sagrada Família'\n",
      " 'la Sagrera' 'la Salut' 'la Teixonera' 'la Trinitat Nova'\n",
      " 'la Trinitat Vella' \"la Vall d'Hebron\" 'la Verneda i la Pau'\n",
      " 'la Vila Olímpica del Poblenou' 'la Vila de Gràcia' 'les Corts'\n",
      " 'les Roquetes' 'les Tres Torres']\n",
      "The number of values for feature AEB :233\n",
      "The number of values for feature Seccio_Censal :1068\n",
      "The number of values for feature Valor :2180\n",
      "The number of values for feature Data_Referencia :28 -- ['1997-01-01T00:00:00' '1998-01-01T00:00:00' '1999-01-01T00:00:00'\n",
      " '2000-01-01T00:00:00' '2001-01-01T00:00:00' '2002-01-01T00:00:00'\n",
      " '2003-01-01T00:00:00' '2004-01-01T00:00:00' '2005-01-01T00:00:00'\n",
      " '2006-01-01T00:00:00' '2007-01-01T00:00:00' '2008-01-01T00:00:00'\n",
      " '2009-01-01T00:00:00' '2010-01-01T00:00:00' '2011-01-01T00:00:00'\n",
      " '2012-01-01T00:00:00' '2013-01-01T00:00:00' '2014-01-01T00:00:00'\n",
      " '2015-01-01T00:00:00' '2016-01-01T00:00:00' '2017-01-01T00:00:00'\n",
      " '2018-01-01T00:00:00' '2019-01-01T00:00:00' '2020-01-01T00:00:00'\n",
      " '2021-01-01T00:00:00' '2022-01-01T00:00:00' '2023-01-01T00:00:00'\n",
      " '2024-01-01T00:00:00']\n",
      "The number of values for feature _id :1068\n",
      "The number of values for feature year :28 -- ['1997' '1998' '1999' '2000' '2001' '2002' '2003' '2004' '2005' '2006'\n",
      " '2007' '2008' '2009' '2010' '2011' '2012' '2013' '2014' '2015' '2016'\n",
      " '2017' '2018' '2019' '2020' '2021' '2022' '2023' '2024']\n"
     ]
    }
   ],
   "source": [
    "import numpy as np\n",
    "for column in all_data:\n",
    "    unique_vals = np.unique(all_data[column].fillna('0'))\n",
    "    nr_values = len(unique_vals)\n",
    "    if nr_values <= 85:\n",
    "        print(\"The number of values for feature {} :{} -- {}\".format(column, nr_values, unique_vals))\n",
    "    else:\n",
    "        print(\"The number of values for feature {} :{}\".format(column, nr_values))"
   ]
  },
  {
   "cell_type": "code",
   "execution_count": 4,
   "metadata": {},
   "outputs": [
    {
     "data": {
      "text/plain": [
       "Codi_Districte     object\n",
       "Nom_Districte      object\n",
       "Codi_Barri         object\n",
       "Nom_Barri          object\n",
       "AEB                object\n",
       "Seccio_Censal      object\n",
       "Valor              object\n",
       "Data_Referencia    object\n",
       "_id                 int64\n",
       "year               object\n",
       "dtype: object"
      ]
     },
     "execution_count": 4,
     "metadata": {},
     "output_type": "execute_result"
    }
   ],
   "source": [
    "all_data.dtypes"
   ]
  },
  {
   "cell_type": "code",
   "execution_count": 16,
   "metadata": {},
   "outputs": [],
   "source": [
    "all_data['Valor'] = pd.to_numeric(all_data['Valor'], errors='coerce')\n",
    "all_data['year'] = pd.to_numeric(all_data['year'], errors='coerce')"
   ]
  },
  {
   "cell_type": "code",
   "execution_count": 6,
   "metadata": {},
   "outputs": [
    {
     "name": "stdout",
     "output_type": "stream",
     "text": [
      "Index(['Codi_Districte', 'Nom_Districte', 'Codi_Barri', 'Nom_Barri', 'AEB',\n",
      "       'Seccio_Censal', 'Valor', 'Data_Referencia', '_id', 'year'],\n",
      "      dtype='object')\n"
     ]
    }
   ],
   "source": [
    "print(all_data.columns)\n"
   ]
  },
  {
   "cell_type": "code",
   "execution_count": 7,
   "metadata": {},
   "outputs": [],
   "source": [
    "all_data = all_data[['Codi_Districte', 'Nom_Districte', 'Codi_Barri', 'Nom_Barri', 'AEB', 'Seccio_Censal', 'year', 'Valor']]\n"
   ]
  },
  {
   "cell_type": "code",
   "execution_count": 8,
   "metadata": {},
   "outputs": [
    {
     "name": "stdout",
     "output_type": "stream",
     "text": [
      "Codi_Districte    0\n",
      "Nom_Districte     0\n",
      "Codi_Barri        0\n",
      "Nom_Barri         0\n",
      "AEB               0\n",
      "Seccio_Censal     0\n",
      "year              0\n",
      "Valor             0\n",
      "dtype: int64\n"
     ]
    }
   ],
   "source": [
    "print(all_data.isnull().sum())"
   ]
  },
  {
   "cell_type": "code",
   "execution_count": 15,
   "metadata": {},
   "outputs": [
    {
     "name": "stdout",
     "output_type": "stream",
     "text": [
      "['1997', '1998', '1999', '2000', '2001', '2002', '2003', '2004', '2005', '2006', '2007', '2008', '2009', '2010', '2011', '2012', '2013', '2014', '2015', '2016', '2017', '2018', '2019', '2020', '2021', '2022', '2023', '2024']\n",
      "['el Raval' 'el Barri Gòtic' 'la Barceloneta'\n",
      " 'Sant Pere, Santa Caterina i la Ribera' 'el Fort Pienc'\n",
      " 'la Sagrada Família' \"la Dreta de l'Eixample\"\n",
      " \"l'Antiga Esquerra de l'Eixample\" \"la Nova Esquerra de l'Eixample\"\n",
      " 'Sant Antoni']\n"
     ]
    }
   ],
   "source": [
    "print(sorted(all_data['year'].unique()))\n",
    "print(all_data['Nom_Barri'].unique()[:10])"
   ]
  },
  {
   "cell_type": "code",
   "execution_count": 11,
   "metadata": {},
   "outputs": [
    {
     "name": "stdout",
     "output_type": "stream",
     "text": [
      "(29895, 8)\n",
      "year\n",
      "2011    1068\n",
      "2012    1068\n",
      "2023    1068\n",
      "2022    1068\n",
      "2021    1068\n",
      "2020    1068\n",
      "2019    1068\n",
      "2018    1068\n",
      "2017    1068\n",
      "2016    1068\n",
      "2015    1068\n",
      "2014    1068\n",
      "2013    1068\n",
      "2024    1068\n",
      "2010    1068\n",
      "2009    1068\n",
      "2008    1068\n",
      "2007    1068\n",
      "2006    1068\n",
      "2005    1068\n",
      "2004    1068\n",
      "2003    1068\n",
      "2002    1068\n",
      "2001    1067\n",
      "2000    1067\n",
      "1999    1067\n",
      "1998    1065\n",
      "1997    1065\n",
      "Name: count, dtype: int64\n"
     ]
    }
   ],
   "source": [
    "print(all_data.shape)\n",
    "print(all_data['year'].value_counts())"
   ]
  },
  {
   "cell_type": "code",
   "execution_count": 12,
   "metadata": {},
   "outputs": [
    {
     "name": "stdout",
     "output_type": "stream",
     "text": [
      "YEAR: 2024 - Records: 1068\n"
     ]
    }
   ],
   "source": [
    "print(f\"YEAR: {year} - Records: {len(records)}\")\n"
   ]
  },
  {
   "cell_type": "code",
   "execution_count": 17,
   "metadata": {},
   "outputs": [
    {
     "name": "stdout",
     "output_type": "stream",
     "text": [
      "int64\n"
     ]
    }
   ],
   "source": [
    "print(all_data['year'].dtype)"
   ]
  },
  {
   "cell_type": "code",
   "execution_count": 14,
   "metadata": {},
   "outputs": [
    {
     "name": "stdout",
     "output_type": "stream",
     "text": [
      "{'1997': 'ace48328-c14f-4d67-afe9-ce1bd8057ccc', '1998': 'd96b8438-9bc2-4e75-8d70-9e1374dc0983', '1999': 'cb5f9b6d-0e6c-4d35-bf2c-986e461d0825', '2000': '3c21fd04-5f98-41ce-b1cb-56e2b7cf0c84', '2001': '8a602477-d724-4a82-9b87-3e42dba55040', '2002': '411c5de4-6b6d-4228-b159-4c1d96b8e2cb', '2003': '816ec8d3-43b4-4da0-864f-384ef6e6f6a7', '2004': 'ec2bb3d2-43ba-4cc4-bb3a-73c7e1f9c9c3', '2005': 'dda2e7a6-6396-4e4d-b4c8-77339b5ebec9', '2006': '2e9f6b57-6062-4cf6-b248-7022659919d7', '2007': 'd0d7d48c-a5b3-461c-a34d-126f6c7ddcfb', '2008': 'f27d1abd-09cb-4f96-a47d-c62d058bd092', '2009': 'a5f76082-6e0d-4e89-acee-94a24e8d920c', '2010': '5af14703-b2c5-4227-b773-0bc5516e7250', '2011': '1b8695d0-276e-4df0-86fd-ff0ac0ce0d6a', '2012': 'e9600a47-b0b3-4495-b28e-3f2093822f71', '2013': '5143d709-419d-40d4-97f6-0eb65396298c', '2014': '2edf0aab-7751-4a1d-b7b5-780079c85110', '2015': '68af79ac-1df8-481a-9d03-34e5ce72e238', '2016': 'e32cf831-2ec5-4478-b3ea-6ea9adae5c5e', '2017': '7b844962-fd60-49d0-9604-1ba4711f1450', '2018': 'c661f45e-a959-4193-8ff5-43a728b2bb9c', '2019': 'd1260b9e-5009-4afc-85f2-79baf4c0d91b', '2020': '76907f41-31fb-4afc-b5df-ae0d06d99a37', '2021': '8b1f1cb6-14d1-4227-b03f-111bb721f82c', '2022': '78b965d3-b2dc-4f23-91b9-59caa45bc334', '2023': 'f70020ae-c41a-438d-8983-a372628c197b', '2024': 'fc597601-a291-4811-ad02-c58e32784692'}\n"
     ]
    }
   ],
   "source": [
    "print(resource_ids)"
   ]
  },
  {
   "cell_type": "code",
   "execution_count": 18,
   "metadata": {},
   "outputs": [],
   "source": [
    "all_data.to_csv('population_data.csv', index=False)\n"
   ]
  },
  {
   "cell_type": "code",
   "execution_count": null,
   "metadata": {},
   "outputs": [],
   "source": []
  }
 ],
 "metadata": {
  "kernelspec": {
   "display_name": "base",
   "language": "python",
   "name": "python3"
  },
  "language_info": {
   "codemirror_mode": {
    "name": "ipython",
    "version": 3
   },
   "file_extension": ".py",
   "mimetype": "text/x-python",
   "name": "python",
   "nbconvert_exporter": "python",
   "pygments_lexer": "ipython3",
   "version": "3.12.4"
  }
 },
 "nbformat": 4,
 "nbformat_minor": 2
}
