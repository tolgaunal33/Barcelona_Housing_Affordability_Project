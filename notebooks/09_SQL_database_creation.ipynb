{
 "cells": [
  {
   "cell_type": "code",
   "execution_count": 1,
   "metadata": {},
   "outputs": [
    {
     "name": "stdout",
     "output_type": "stream",
     "text": [
      "year                   object\n",
      "territory              object\n",
      "territory_order         int64\n",
      "territory_type         object\n",
      "average_rent_price    float64\n",
      "year_quarter           object\n",
      "dtype: object\n",
      "                        year       territory  territory_order territory_type  \\\n",
      "0  2000-01-01 00:00:00+00:00          Gràcia                6      Districte   \n",
      "1  2000-01-01 00:00:00+00:00  Horta-Guinardó                7      Districte   \n",
      "2  2000-01-01 00:00:00+00:00        Eixample                2      Districte   \n",
      "3  2000-01-01 00:00:00+00:00     Sant Andreu                9      Districte   \n",
      "4  2000-01-01 00:00:00+00:00  Sants-Montjuïc                3      Districte   \n",
      "\n",
      "   average_rent_price year_quarter  \n",
      "0          348.617900       2000Q1  \n",
      "1          320.278800       2000Q1  \n",
      "2          436.381771       2000Q1  \n",
      "3          339.494251       2000Q1  \n",
      "4          312.987100       2000Q1  \n"
     ]
    }
   ],
   "source": [
    "import pandas as pd\n",
    "\n",
    "# Change the filename to your dataset\n",
    "df = pd.read_csv(\"rent_price_avg.csv\")\n",
    "\n",
    "# Print column names and data types\n",
    "print(df.dtypes)\n",
    "\n",
    "# Optionally: show first few rows to understand values\n",
    "print(df.head())\n"
   ]
  },
  {
   "cell_type": "code",
   "execution_count": 2,
   "metadata": {},
   "outputs": [
    {
     "data": {
      "text/plain": [
       "array(['Districte', 'Municipi', 'Comunitat Autònoma',\n",
       "       'Àmbit Funcional Territorial', 'Barri'], dtype=object)"
      ]
     },
     "execution_count": 2,
     "metadata": {},
     "output_type": "execute_result"
    }
   ],
   "source": [
    "df['territory_type'].unique()  # Check unique values in 'territory_type' column"
   ]
  },
  {
   "cell_type": "code",
   "execution_count": 19,
   "metadata": {},
   "outputs": [
    {
     "name": "stdout",
     "output_type": "stream",
     "text": [
      "year                 int64\n",
      "territory           object\n",
      "territory_order      int64\n",
      "territory_type      object\n",
      "tenure_regime       object\n",
      "num_main_homes     float64\n",
      "dtype: object\n",
      "   year       territory  territory_order territory_type tenure_regime  \\\n",
      "0  1981       Barcelona                1       Municipi          Rent   \n",
      "1  1981       Barcelona                1       Municipi     Ownership   \n",
      "2  1981       Barcelona                1       Municipi         Other   \n",
      "3  1991       Barcelona                1       Municipi     Ownership   \n",
      "4  1991  Horta-Guinardó                7      Districte          Rent   \n",
      "\n",
      "   num_main_homes  \n",
      "0        268881.0  \n",
      "1        287153.0  \n",
      "2         23797.0  \n",
      "3        354477.0  \n",
      "4         17872.0  \n"
     ]
    }
   ],
   "source": [
    "import pandas as pd\n",
    "df = pd.read_csv(\"tenure_regime_count.csv\")\n",
    "print(df.dtypes)\n",
    "print(df.head())\n"
   ]
  },
  {
   "cell_type": "code",
   "execution_count": 20,
   "metadata": {},
   "outputs": [
    {
     "data": {
      "text/plain": [
       "array(['Municipi', 'Districte', 'Barri'], dtype=object)"
      ]
     },
     "execution_count": 20,
     "metadata": {},
     "output_type": "execute_result"
    }
   ],
   "source": [
    "df['territory_type'].unique()  # Check unique values in 'territory_type' column"
   ]
  },
  {
   "cell_type": "markdown",
   "metadata": {},
   "source": [
    "## importing aribnb listing.csv"
   ]
  },
  {
   "cell_type": "code",
   "execution_count": 2,
   "metadata": {},
   "outputs": [
    {
     "name": "stdout",
     "output_type": "stream",
     "text": [
      "✅ Airbnb listings successfully sent to MySQL!\n"
     ]
    }
   ],
   "source": [
    "import pandas as pd\n",
    "from sqlalchemy import create_engine\n",
    "\n",
    "# Step 1: Load the dataset\n",
    "df = pd.read_csv(\"barcelona_listings.csv\")\n",
    "\n",
    "# Step 2: MySQL credentials (edit your password if needed)\n",
    "user = \"root\"\n",
    "password = \"335133\"  # ← replace with your actual password\n",
    "host = \"localhost\"\n",
    "database = \"barcelona_housing_project\"\n",
    "\n",
    "# Step 3: Create connection\n",
    "connection_string = f\"mysql+pymysql://{user}:{password}@{host}/{database}\"\n",
    "engine = create_engine(connection_string)\n",
    "\n",
    "# Step 4: Send to MySQL\n",
    "df.to_sql(name=\"airbnb_listings\", con=engine, if_exists=\"replace\", index=False)\n",
    "\n",
    "print(\"✅ Airbnb listings successfully sent to MySQL!\")\n"
   ]
  },
  {
   "cell_type": "markdown",
   "metadata": {},
   "source": [
    "## improting HUT.csv"
   ]
  },
  {
   "cell_type": "code",
   "execution_count": 5,
   "metadata": {},
   "outputs": [
    {
     "name": "stdout",
     "output_type": "stream",
     "text": [
      "✅ HUT licenses dataset successfully sent to MySQL!\n"
     ]
    }
   ],
   "source": [
    "import pandas as pd\n",
    "from sqlalchemy import create_engine\n",
    "\n",
    "# Step 1: Load the dataset\n",
    "df = pd.read_csv(\"touristic_homes_HUT.csv\")\n",
    "\n",
    "# Step 2: Replace commas with dots in lat/lon and convert to float\n",
    "df[\"latitude\"] = df[\"latitude\"].str.replace(\",\", \".\").astype(float)\n",
    "df[\"longitude\"] = df[\"longitude\"].str.replace(\",\", \".\").astype(float)\n",
    "\n",
    "# Optional: convert column names to lowercase and snake_case for easier SQL usage\n",
    "df.columns = df.columns.str.lower().str.strip().str.replace(\" \", \"_\")\n",
    "\n",
    "# Step 3: MySQL connection info\n",
    "user = \"root\"\n",
    "password = \"335133\"  # ← change this\n",
    "host = \"localhost\"\n",
    "database = \"barcelona_housing_project\"\n",
    "\n",
    "connection_string = f\"mysql+pymysql://{user}:{password}@{host}/{database}\"\n",
    "engine = create_engine(connection_string)\n",
    "\n",
    "# Step 4: Send to MySQL\n",
    "df.to_sql(name=\"hut_licenses\", con=engine, if_exists=\"replace\", index=False)\n",
    "\n",
    "print(\"✅ HUT licenses dataset successfully sent to MySQL!\")\n"
   ]
  },
  {
   "cell_type": "code",
   "execution_count": 3,
   "metadata": {},
   "outputs": [
    {
     "data": {
      "text/html": [
       "<div>\n",
       "<style scoped>\n",
       "    .dataframe tbody tr th:only-of-type {\n",
       "        vertical-align: middle;\n",
       "    }\n",
       "\n",
       "    .dataframe tbody tr th {\n",
       "        vertical-align: top;\n",
       "    }\n",
       "\n",
       "    .dataframe thead th {\n",
       "        text-align: right;\n",
       "    }\n",
       "</style>\n",
       "<table border=\"1\" class=\"dataframe\">\n",
       "  <thead>\n",
       "    <tr style=\"text-align: right;\">\n",
       "      <th></th>\n",
       "      <th>district_code</th>\n",
       "      <th>longitude</th>\n",
       "      <th>staircase</th>\n",
       "      <th>number_type</th>\n",
       "      <th>building_entrance</th>\n",
       "      <th>street_type</th>\n",
       "      <th>street_number_start</th>\n",
       "      <th>street_number_end</th>\n",
       "      <th>district_name</th>\n",
       "      <th>neighbourhood_name</th>\n",
       "      <th>...</th>\n",
       "      <th>door</th>\n",
       "      <th>letter2</th>\n",
       "      <th>number_of_places</th>\n",
       "      <th>expedient_number</th>\n",
       "      <th>letter1</th>\n",
       "      <th>latitude</th>\n",
       "      <th>block</th>\n",
       "      <th>street_name</th>\n",
       "      <th>neighbourhood_code</th>\n",
       "      <th>id</th>\n",
       "    </tr>\n",
       "  </thead>\n",
       "  <tbody>\n",
       "    <tr>\n",
       "      <th>0</th>\n",
       "      <td>1</td>\n",
       "      <td>2,17017206787341</td>\n",
       "      <td>NaN</td>\n",
       "      <td>1</td>\n",
       "      <td>NaN</td>\n",
       "      <td>Carrer</td>\n",
       "      <td>19</td>\n",
       "      <td>NaN</td>\n",
       "      <td>CIUTAT VELLA</td>\n",
       "      <td>el Raval</td>\n",
       "      <td>...</td>\n",
       "      <td>1</td>\n",
       "      <td>NaN</td>\n",
       "      <td>3.0</td>\n",
       "      <td>01-2009-0354</td>\n",
       "      <td>NaN</td>\n",
       "      <td>41,3784454355655</td>\n",
       "      <td>NaN</td>\n",
       "      <td>SANT JOSEP ORIOL</td>\n",
       "      <td>1.0</td>\n",
       "      <td>1</td>\n",
       "    </tr>\n",
       "    <tr>\n",
       "      <th>1</th>\n",
       "      <td>1</td>\n",
       "      <td>2,18200417667745</td>\n",
       "      <td>NaN</td>\n",
       "      <td>2</td>\n",
       "      <td>NaN</td>\n",
       "      <td>Carrer</td>\n",
       "      <td>22</td>\n",
       "      <td>NaN</td>\n",
       "      <td>CIUTAT VELLA</td>\n",
       "      <td>Sant Pere, Santa Caterina i la Ribera</td>\n",
       "      <td>...</td>\n",
       "      <td>NaN</td>\n",
       "      <td>NaN</td>\n",
       "      <td>3.0</td>\n",
       "      <td>01-2011-0123</td>\n",
       "      <td>NaN</td>\n",
       "      <td>41,3828840594187</td>\n",
       "      <td>NaN</td>\n",
       "      <td>AGULLERS</td>\n",
       "      <td>4.0</td>\n",
       "      <td>2</td>\n",
       "    </tr>\n",
       "    <tr>\n",
       "      <th>2</th>\n",
       "      <td>1</td>\n",
       "      <td>2,17308601359367</td>\n",
       "      <td>NaN</td>\n",
       "      <td>2</td>\n",
       "      <td>NaN</td>\n",
       "      <td>Carrer</td>\n",
       "      <td>8</td>\n",
       "      <td>NaN</td>\n",
       "      <td>CIUTAT VELLA</td>\n",
       "      <td>el Barri Gòtic</td>\n",
       "      <td>...</td>\n",
       "      <td>2</td>\n",
       "      <td>NaN</td>\n",
       "      <td>3.0</td>\n",
       "      <td>01-2011-0137</td>\n",
       "      <td>NaN</td>\n",
       "      <td>41,3822240718426</td>\n",
       "      <td>NaN</td>\n",
       "      <td>ROCA</td>\n",
       "      <td>2.0</td>\n",
       "      <td>3</td>\n",
       "    </tr>\n",
       "    <tr>\n",
       "      <th>3</th>\n",
       "      <td>1</td>\n",
       "      <td>2,18200417667745</td>\n",
       "      <td>NaN</td>\n",
       "      <td>2</td>\n",
       "      <td>NaN</td>\n",
       "      <td>Carrer</td>\n",
       "      <td>22</td>\n",
       "      <td>NaN</td>\n",
       "      <td>CIUTAT VELLA</td>\n",
       "      <td>Sant Pere, Santa Caterina i la Ribera</td>\n",
       "      <td>...</td>\n",
       "      <td>NaN</td>\n",
       "      <td>NaN</td>\n",
       "      <td>3.0</td>\n",
       "      <td>01-2011-0152</td>\n",
       "      <td>NaN</td>\n",
       "      <td>41,3828840594187</td>\n",
       "      <td>NaN</td>\n",
       "      <td>AGULLERS</td>\n",
       "      <td>4.0</td>\n",
       "      <td>4</td>\n",
       "    </tr>\n",
       "    <tr>\n",
       "      <th>4</th>\n",
       "      <td>1</td>\n",
       "      <td>2,18330533470055</td>\n",
       "      <td>NaN</td>\n",
       "      <td>1</td>\n",
       "      <td>NaN</td>\n",
       "      <td>Plaça</td>\n",
       "      <td>9</td>\n",
       "      <td>NaN</td>\n",
       "      <td>CIUTAT VELLA</td>\n",
       "      <td>Sant Pere, Santa Caterina i la Ribera</td>\n",
       "      <td>...</td>\n",
       "      <td>2</td>\n",
       "      <td>NaN</td>\n",
       "      <td>9.0</td>\n",
       "      <td>01-2011-0157</td>\n",
       "      <td>B</td>\n",
       "      <td>41,3836849458057</td>\n",
       "      <td>NaN</td>\n",
       "      <td>OLLES</td>\n",
       "      <td>4.0</td>\n",
       "      <td>5</td>\n",
       "    </tr>\n",
       "  </tbody>\n",
       "</table>\n",
       "<p>5 rows × 22 columns</p>\n",
       "</div>"
      ],
      "text/plain": [
       "   district_code         longitude staircase  number_type building_entrance  \\\n",
       "0              1  2,17017206787341       NaN            1               NaN   \n",
       "1              1  2,18200417667745       NaN            2               NaN   \n",
       "2              1  2,17308601359367       NaN            2               NaN   \n",
       "3              1  2,18200417667745       NaN            2               NaN   \n",
       "4              1  2,18330533470055       NaN            1               NaN   \n",
       "\n",
       "  street_type  street_number_start  street_number_end district_name  \\\n",
       "0      Carrer                   19                NaN  CIUTAT VELLA   \n",
       "1      Carrer                   22                NaN  CIUTAT VELLA   \n",
       "2      Carrer                    8                NaN  CIUTAT VELLA   \n",
       "3      Carrer                   22                NaN  CIUTAT VELLA   \n",
       "4       Plaça                    9                NaN  CIUTAT VELLA   \n",
       "\n",
       "                      neighbourhood_name  ... door letter2 number_of_places  \\\n",
       "0                               el Raval  ...    1     NaN              3.0   \n",
       "1  Sant Pere, Santa Caterina i la Ribera  ...  NaN     NaN              3.0   \n",
       "2                         el Barri Gòtic  ...    2     NaN              3.0   \n",
       "3  Sant Pere, Santa Caterina i la Ribera  ...  NaN     NaN              3.0   \n",
       "4  Sant Pere, Santa Caterina i la Ribera  ...    2     NaN              9.0   \n",
       "\n",
       "  expedient_number  letter1          latitude block       street_name  \\\n",
       "0     01-2009-0354      NaN  41,3784454355655   NaN  SANT JOSEP ORIOL   \n",
       "1     01-2011-0123      NaN  41,3828840594187   NaN          AGULLERS   \n",
       "2     01-2011-0137      NaN  41,3822240718426   NaN              ROCA   \n",
       "3     01-2011-0152      NaN  41,3828840594187   NaN          AGULLERS   \n",
       "4     01-2011-0157        B  41,3836849458057   NaN             OLLES   \n",
       "\n",
       "  neighbourhood_code id  \n",
       "0                1.0  1  \n",
       "1                4.0  2  \n",
       "2                2.0  3  \n",
       "3                4.0  4  \n",
       "4                4.0  5  \n",
       "\n",
       "[5 rows x 22 columns]"
      ]
     },
     "execution_count": 3,
     "metadata": {},
     "output_type": "execute_result"
    }
   ],
   "source": [
    "import pandas as pd\n",
    "df = pd.read_csv(\"touristic_homes_HUT.csv\")\n",
    "df.head()"
   ]
  },
  {
   "cell_type": "markdown",
   "metadata": {},
   "source": [
    "## imporing income_data.csv"
   ]
  },
  {
   "cell_type": "code",
   "execution_count": 7,
   "metadata": {},
   "outputs": [
    {
     "name": "stdout",
     "output_type": "stream",
     "text": [
      "✅ Income data successfully sent to MySQL!\n"
     ]
    }
   ],
   "source": [
    "import pandas as pd\n",
    "from sqlalchemy import create_engine\n",
    "\n",
    "# Step 1: Load the dataset\n",
    "df = pd.read_csv(\"income_data.csv\")\n",
    "\n",
    "# Optional: Rename columns to lowercase + snake_case for SQL clarity\n",
    "df.columns = df.columns.str.lower().str.strip().str.replace(\" \", \"_\")\n",
    "\n",
    "# Step 2: MySQL connection info\n",
    "user = \"root\"\n",
    "password = \"335133\"  # ← update this\n",
    "host = \"localhost\"\n",
    "database = \"barcelona_housing_project\"\n",
    "\n",
    "connection_string = f\"mysql+pymysql://{user}:{password}@{host}/{database}\"\n",
    "engine = create_engine(connection_string)\n",
    "\n",
    "# Step 3: Send to MySQL\n",
    "df.to_sql(name=\"income_data\", con=engine, if_exists=\"replace\", index=False)\n",
    "\n",
    "print(\"✅ Income data successfully sent to MySQL!\")\n"
   ]
  },
  {
   "cell_type": "markdown",
   "metadata": {},
   "source": [
    "## importing population_data.csv"
   ]
  },
  {
   "cell_type": "code",
   "execution_count": 10,
   "metadata": {},
   "outputs": [
    {
     "name": "stdout",
     "output_type": "stream",
     "text": [
      "✅ Population data successfully sent to MySQL!\n"
     ]
    }
   ],
   "source": [
    "import pandas as pd\n",
    "from sqlalchemy import create_engine\n",
    "\n",
    "# Step 1: Load the dataset\n",
    "df = pd.read_csv(\"population_data.csv\")\n",
    "\n",
    "# Step 3: Connect to MySQL\n",
    "user = \"root\"\n",
    "password = \"335133\"  # Update this\n",
    "host = \"localhost\"\n",
    "database = \"barcelona_housing_project\"\n",
    "\n",
    "engine = create_engine(f\"mysql+pymysql://{user}:{password}@{host}/{database}\")\n",
    "\n",
    "# Step 4: Send to MySQL\n",
    "df.to_sql(name=\"population_data\", con=engine, if_exists=\"replace\", index=False)\n",
    "\n",
    "print(\"✅ Population data successfully sent to MySQL!\")\n"
   ]
  },
  {
   "cell_type": "markdown",
   "metadata": {},
   "source": [
    "## unemployed.data"
   ]
  },
  {
   "cell_type": "code",
   "execution_count": 12,
   "metadata": {},
   "outputs": [
    {
     "name": "stdout",
     "output_type": "stream",
     "text": [
      "✅ Unemployment data sent to MySQL!\n"
     ]
    }
   ],
   "source": [
    "import pandas as pd\n",
    "from sqlalchemy import create_engine\n",
    "\n",
    "# Load the data\n",
    "df = pd.read_csv(\"unemployed_data.csv\")\n",
    "\n",
    "# Connect to MySQL\n",
    "user = \"root\"\n",
    "password = \"335133\"  # ← update as needed\n",
    "host = \"localhost\"\n",
    "database = \"barcelona_housing_project\"\n",
    "\n",
    "engine = create_engine(f\"mysql+pymysql://{user}:{password}@{host}/{database}\")\n",
    "\n",
    "# Send to MySQL\n",
    "df.to_sql(name=\"unemployed_data\", con=engine, if_exists=\"replace\", index=False)\n",
    "\n",
    "print(\"✅ Unemployment data sent to MySQL!\")\n"
   ]
  },
  {
   "cell_type": "markdown",
   "metadata": {},
   "source": [
    "## importing hosuing stock"
   ]
  },
  {
   "cell_type": "code",
   "execution_count": 15,
   "metadata": {},
   "outputs": [
    {
     "name": "stdout",
     "output_type": "stream",
     "text": [
      "✅ Housing stock data sent to MySQL!\n"
     ]
    }
   ],
   "source": [
    "import pandas as pd\n",
    "from sqlalchemy import create_engine\n",
    "\n",
    "# Load the dataset\n",
    "df = pd.read_csv(\"housing_stock_data.csv\")\n",
    "\n",
    "# Connect to MySQL\n",
    "user = \"root\"\n",
    "password = \"335133\"  # Update this\n",
    "host = \"localhost\"\n",
    "database = \"barcelona_housing_project\"\n",
    "\n",
    "engine = create_engine(f\"mysql+pymysql://{user}:{password}@{host}/{database}\")\n",
    "\n",
    "# Send to MySQL\n",
    "df.to_sql(name=\"housing_stock\", con=engine, if_exists=\"replace\", index=False)\n",
    "\n",
    "print(\"✅ Housing stock data sent to MySQL!\")\n"
   ]
  },
  {
   "cell_type": "markdown",
   "metadata": {},
   "source": [
    "## importing housing_occupancy_data"
   ]
  },
  {
   "cell_type": "code",
   "execution_count": 18,
   "metadata": {},
   "outputs": [
    {
     "name": "stdout",
     "output_type": "stream",
     "text": [
      "✅ Housing occupancy data sent to MySQL!\n"
     ]
    }
   ],
   "source": [
    "import pandas as pd\n",
    "from sqlalchemy import create_engine\n",
    "\n",
    "# Load the dataset\n",
    "df = pd.read_csv(\"housing_occupancy_data.csv\")\n",
    "\n",
    "# Connect to MySQL\n",
    "user = \"root\"\n",
    "password = \"335133\"  # Update this\n",
    "host = \"localhost\"\n",
    "database = \"barcelona_housing_project\"\n",
    "\n",
    "engine = create_engine(f\"mysql+pymysql://{user}:{password}@{host}/{database}\")\n",
    "\n",
    "# Send to MySQL\n",
    "df.to_sql(name=\"housing_occupancy\", con=engine, if_exists=\"replace\", index=False)\n",
    "\n",
    "print(\"✅ Housing occupancy data sent to MySQL!\")\n"
   ]
  },
  {
   "cell_type": "markdown",
   "metadata": {},
   "source": [
    "## importing tenure regime data"
   ]
  },
  {
   "cell_type": "code",
   "execution_count": 22,
   "metadata": {},
   "outputs": [
    {
     "name": "stdout",
     "output_type": "stream",
     "text": [
      "✅ Tenure regime data sent to MySQL!\n"
     ]
    }
   ],
   "source": [
    "import pandas as pd\n",
    "from sqlalchemy import create_engine\n",
    "\n",
    "# Load the dataset\n",
    "df = pd.read_csv(\"tenure_regime_count.csv\")\n",
    "\n",
    "# Connect to MySQL\n",
    "user = \"root\"\n",
    "password = \"335133\"  # Update this\n",
    "host = \"localhost\"\n",
    "database = \"barcelona_housing_project\"\n",
    "\n",
    "engine = create_engine(f\"mysql+pymysql://{user}:{password}@{host}/{database}\")\n",
    "\n",
    "# Send to MySQL\n",
    "df.to_sql(name=\"tenure_data\", con=engine, if_exists=\"replace\", index=False)\n",
    "\n",
    "print(\"✅ Tenure regime data sent to MySQL!\")\n"
   ]
  },
  {
   "cell_type": "code",
   "execution_count": null,
   "metadata": {},
   "outputs": [],
   "source": []
  }
 ],
 "metadata": {
  "kernelspec": {
   "display_name": "base",
   "language": "python",
   "name": "python3"
  },
  "language_info": {
   "codemirror_mode": {
    "name": "ipython",
    "version": 3
   },
   "file_extension": ".py",
   "mimetype": "text/x-python",
   "name": "python",
   "nbconvert_exporter": "python",
   "pygments_lexer": "ipython3",
   "version": "3.12.4"
  }
 },
 "nbformat": 4,
 "nbformat_minor": 2
}
