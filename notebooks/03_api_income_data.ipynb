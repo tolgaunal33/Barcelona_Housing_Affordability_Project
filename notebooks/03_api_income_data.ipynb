{
 "cells": [
  {
   "cell_type": "code",
   "execution_count": 2,
   "metadata": {},
   "outputs": [
    {
     "name": "stdout",
     "output_type": "stream",
     "text": [
      "  Codi_Districte Import_Euros Nom_Districte Nom_Barri Seccio_Censal  \\\n",
      "0              1     12659.06  Ciutat Vella  el Raval             1   \n",
      "1              1     10270.68  Ciutat Vella  el Raval             2   \n",
      "2              1      9887.87  Ciutat Vella  el Raval             3   \n",
      "3              1     12906.83  Ciutat Vella  el Raval             4   \n",
      "4              1     10414.04  Ciutat Vella  el Raval             5   \n",
      "\n",
      "  Codi_Barri  _id   Any  year  \n",
      "0          1    1  2015  2015  \n",
      "1          1    2  2015  2015  \n",
      "2          1    3  2015  2015  \n",
      "3          1    4  2015  2015  \n",
      "4          1    5  2015  2015  \n"
     ]
    }
   ],
   "source": [
    "import requests\n",
    "import pandas as pd\n",
    "\n",
    "# Yıllara ait resource_id'lerin listesi\n",
    "resource_ids = {\n",
    "    '2015': '9a69cefe-dcc5-400c-8647-4e438f7ae12b',\n",
    "    '2016': 'bc48d45b-1046-4496-93c1-fbdac1fd47d0',\n",
    "    '2017': 'dc0c1ad4-8b5e-4762-b999-2d4ffc95a718',\n",
    "    '2018': '9f5a6152-0075-4111-abec-7b5d62655dd3',\n",
    "    '2019': '0e205580-6d55-4599-bd13-086de83130b8',\n",
    "    '2020': 'afe5b67d-7948-4e79-a88c-d51e55fe3ac6',\n",
    "    '2021': 'e14509ca-9cba-43ec-b925-3beb5c69c2c7'\n",
    "}\n",
    "\n",
    "# Boş bir DataFrame oluştur\n",
    "all_data = pd.DataFrame()\n",
    "\n",
    "# Her yılın verisini çek ve birleştir\n",
    "for year, res_id in resource_ids.items():\n",
    "    url = f'https://opendata-ajuntament.barcelona.cat/data/api/action/datastore_search?resource_id={res_id}&limit=50000'\n",
    "    response = requests.get(url)\n",
    "    data = response.json()\n",
    "    records = data['result']['records']\n",
    "    df = pd.DataFrame.from_records(records)\n",
    "    df['year'] = year  # Yıla ait bilgiyi ekle\n",
    "    all_data = pd.concat([all_data, df], ignore_index=True)\n",
    "\n",
    "# Sonuçları kontrol et\n",
    "print(all_data.head())\n"
   ]
  },
  {
   "cell_type": "code",
   "execution_count": 2,
   "metadata": {},
   "outputs": [
    {
     "name": "stdout",
     "output_type": "stream",
     "text": [
      "The number of values for feature Codi_Districte :10 -- ['1' '10' '2' '3' '4' '5' '6' '7' '8' '9']\n",
      "The number of values for feature Import_Euros :7457\n",
      "The number of values for feature Nom_Districte :10 -- ['Ciutat Vella' 'Eixample' 'Gràcia' 'Horta-Guinardó' 'Les Corts'\n",
      " 'Nou Barris' 'Sant Andreu' 'Sant Martí' 'Sants-Montjuïc'\n",
      " 'Sarrià-St. Gervasi']\n",
      "The number of values for feature Nom_Barri :73 -- ['Baró de Viver' 'Can Baró' 'Can Peguera' 'Canyelles' 'Ciutat Meridiana'\n",
      " 'Diagonal Mar i el Front Marítim del Poblenou' 'Horta' 'Hostafrancs'\n",
      " 'Montbau' 'Navas' 'Pedralbes' 'Porta' 'Provençals del Poblenou'\n",
      " 'Sant Andreu' 'Sant Antoni' 'Sant Genís dels Agudells'\n",
      " 'Sant Gervasi - Galvany' 'Sant Gervasi - la Bonanova'\n",
      " 'Sant Martí de Provençals' 'Sant Pere, Santa Caterina i la Ribera'\n",
      " 'Sants' 'Sants - Badal' 'Sarrià' 'Torre Baró' 'Vallbona'\n",
      " 'Vallcarca i els Penitents' 'Vallvidrera, el Tibidabo i les Planes'\n",
      " 'Verdun' 'Vilapicina i la Torre Llobeta' 'el Baix Guinardó'\n",
      " 'el Barri Gòtic' 'el Besòs i el Maresme' 'el Bon Pastor'\n",
      " \"el Camp d'en Grassot i Gràcia Nova\" \"el Camp de l'Arpa del Clot\"\n",
      " 'el Carmel' 'el Clot' 'el Coll' 'el Congrés i els Indians'\n",
      " 'el Fort Pienc' 'el Guinardó' 'el Parc i la Llacuna del Poblenou'\n",
      " 'el Poble Sec - AEI Parc Montjuïc' 'el Poblenou' 'el Putxet i el Farró'\n",
      " 'el Raval' 'el Turó de la Peira' \"l'Antiga Esquerra de l'Eixample\"\n",
      " 'la Barceloneta' 'la Bordeta' 'la Clota' \"la Dreta de l'Eixample\"\n",
      " \"la Font d'en Fargues\" 'la Font de la Guatlla' 'la Guineueta'\n",
      " 'la Marina de Port' 'la Marina del Prat Vermell - AEI Zona Franca'\n",
      " 'la Maternitat i Sant Ramon' \"la Nova Esquerra de l'Eixample\"\n",
      " 'la Prosperitat' 'la Sagrada Família' 'la Sagrera' 'la Salut'\n",
      " 'la Teixonera' 'la Trinitat Nova' 'la Trinitat Vella' \"la Vall d'Hebron\"\n",
      " 'la Verneda i la Pau' 'la Vila Olímpica del Poblenou' 'la Vila de Gràcia'\n",
      " 'les Corts' 'les Roquetes' 'les Tres Torres']\n",
      "The number of values for feature Seccio_Censal :181\n",
      "The number of values for feature Codi_Barri :73 -- ['1' '10' '11' '12' '13' '14' '15' '16' '17' '18' '19' '2' '20' '21' '22'\n",
      " '23' '24' '25' '26' '27' '28' '29' '3' '30' '31' '32' '33' '34' '35' '36'\n",
      " '37' '38' '39' '4' '40' '41' '42' '43' '44' '45' '46' '47' '48' '49' '5'\n",
      " '50' '51' '52' '53' '54' '55' '56' '57' '58' '59' '6' '60' '61' '62' '63'\n",
      " '64' '65' '66' '67' '68' '69' '7' '70' '71' '72' '73' '8' '9']\n",
      "The number of values for feature _id :1068\n",
      "The number of values for feature Any :7 -- ['2015' '2016' '2017' '2018' '2019' '2020' '2021']\n",
      "The number of values for feature year :7 -- ['2015' '2016' '2017' '2018' '2019' '2020' '2021']\n"
     ]
    }
   ],
   "source": [
    "import numpy as np\n",
    "for column in all_data:\n",
    "    unique_vals = np.unique(all_data[column].fillna('0'))\n",
    "    nr_values = len(unique_vals)\n",
    "    if nr_values <= 85:\n",
    "        print(\"The number of values for feature {} :{} -- {}\".format(column, nr_values, unique_vals))\n",
    "    else:\n",
    "        print(\"The number of values for feature {} :{}\".format(column, nr_values))"
   ]
  },
  {
   "cell_type": "code",
   "execution_count": 3,
   "metadata": {},
   "outputs": [
    {
     "data": {
      "text/html": [
       "<div>\n",
       "<style scoped>\n",
       "    .dataframe tbody tr th:only-of-type {\n",
       "        vertical-align: middle;\n",
       "    }\n",
       "\n",
       "    .dataframe tbody tr th {\n",
       "        vertical-align: top;\n",
       "    }\n",
       "\n",
       "    .dataframe thead th {\n",
       "        text-align: right;\n",
       "    }\n",
       "</style>\n",
       "<table border=\"1\" class=\"dataframe\">\n",
       "  <thead>\n",
       "    <tr style=\"text-align: right;\">\n",
       "      <th></th>\n",
       "      <th>Codi_Districte</th>\n",
       "      <th>Import_Euros</th>\n",
       "      <th>Nom_Districte</th>\n",
       "      <th>Nom_Barri</th>\n",
       "      <th>Seccio_Censal</th>\n",
       "      <th>Codi_Barri</th>\n",
       "      <th>_id</th>\n",
       "      <th>Any</th>\n",
       "      <th>year</th>\n",
       "    </tr>\n",
       "  </thead>\n",
       "  <tbody>\n",
       "    <tr>\n",
       "      <th>0</th>\n",
       "      <td>1</td>\n",
       "      <td>12659.06</td>\n",
       "      <td>Ciutat Vella</td>\n",
       "      <td>el Raval</td>\n",
       "      <td>1</td>\n",
       "      <td>1</td>\n",
       "      <td>1</td>\n",
       "      <td>2015</td>\n",
       "      <td>2015</td>\n",
       "    </tr>\n",
       "    <tr>\n",
       "      <th>1</th>\n",
       "      <td>1</td>\n",
       "      <td>10270.68</td>\n",
       "      <td>Ciutat Vella</td>\n",
       "      <td>el Raval</td>\n",
       "      <td>2</td>\n",
       "      <td>1</td>\n",
       "      <td>2</td>\n",
       "      <td>2015</td>\n",
       "      <td>2015</td>\n",
       "    </tr>\n",
       "    <tr>\n",
       "      <th>2</th>\n",
       "      <td>1</td>\n",
       "      <td>9887.87</td>\n",
       "      <td>Ciutat Vella</td>\n",
       "      <td>el Raval</td>\n",
       "      <td>3</td>\n",
       "      <td>1</td>\n",
       "      <td>3</td>\n",
       "      <td>2015</td>\n",
       "      <td>2015</td>\n",
       "    </tr>\n",
       "    <tr>\n",
       "      <th>3</th>\n",
       "      <td>1</td>\n",
       "      <td>12906.83</td>\n",
       "      <td>Ciutat Vella</td>\n",
       "      <td>el Raval</td>\n",
       "      <td>4</td>\n",
       "      <td>1</td>\n",
       "      <td>4</td>\n",
       "      <td>2015</td>\n",
       "      <td>2015</td>\n",
       "    </tr>\n",
       "    <tr>\n",
       "      <th>4</th>\n",
       "      <td>1</td>\n",
       "      <td>10414.04</td>\n",
       "      <td>Ciutat Vella</td>\n",
       "      <td>el Raval</td>\n",
       "      <td>5</td>\n",
       "      <td>1</td>\n",
       "      <td>5</td>\n",
       "      <td>2015</td>\n",
       "      <td>2015</td>\n",
       "    </tr>\n",
       "  </tbody>\n",
       "</table>\n",
       "</div>"
      ],
      "text/plain": [
       "  Codi_Districte Import_Euros Nom_Districte Nom_Barri Seccio_Censal  \\\n",
       "0              1     12659.06  Ciutat Vella  el Raval             1   \n",
       "1              1     10270.68  Ciutat Vella  el Raval             2   \n",
       "2              1      9887.87  Ciutat Vella  el Raval             3   \n",
       "3              1     12906.83  Ciutat Vella  el Raval             4   \n",
       "4              1     10414.04  Ciutat Vella  el Raval             5   \n",
       "\n",
       "  Codi_Barri  _id   Any  year  \n",
       "0          1    1  2015  2015  \n",
       "1          1    2  2015  2015  \n",
       "2          1    3  2015  2015  \n",
       "3          1    4  2015  2015  \n",
       "4          1    5  2015  2015  "
      ]
     },
     "execution_count": 3,
     "metadata": {},
     "output_type": "execute_result"
    }
   ],
   "source": [
    "all_data.head()"
   ]
  },
  {
   "cell_type": "markdown",
   "metadata": {},
   "source": [
    "## ✅ 1️⃣ Encoding ve Karakter Temizliği (Zorunlu)"
   ]
  },
  {
   "cell_type": "code",
   "execution_count": 4,
   "metadata": {},
   "outputs": [],
   "source": [
    "all_data['Nom_Barri'] = all_data['Nom_Barri'].str.strip()\n",
    "all_data['Nom_Districte'] = all_data['Nom_Districte'].str.strip()"
   ]
  },
  {
   "cell_type": "code",
   "execution_count": 5,
   "metadata": {},
   "outputs": [
    {
     "data": {
      "text/html": [
       "<div>\n",
       "<style scoped>\n",
       "    .dataframe tbody tr th:only-of-type {\n",
       "        vertical-align: middle;\n",
       "    }\n",
       "\n",
       "    .dataframe tbody tr th {\n",
       "        vertical-align: top;\n",
       "    }\n",
       "\n",
       "    .dataframe thead th {\n",
       "        text-align: right;\n",
       "    }\n",
       "</style>\n",
       "<table border=\"1\" class=\"dataframe\">\n",
       "  <thead>\n",
       "    <tr style=\"text-align: right;\">\n",
       "      <th></th>\n",
       "      <th>Codi_Districte</th>\n",
       "      <th>Import_Euros</th>\n",
       "      <th>Nom_Districte</th>\n",
       "      <th>Nom_Barri</th>\n",
       "      <th>Seccio_Censal</th>\n",
       "      <th>Codi_Barri</th>\n",
       "      <th>_id</th>\n",
       "      <th>Any</th>\n",
       "      <th>year</th>\n",
       "    </tr>\n",
       "  </thead>\n",
       "  <tbody>\n",
       "    <tr>\n",
       "      <th>0</th>\n",
       "      <td>1</td>\n",
       "      <td>12659.06</td>\n",
       "      <td>Ciutat Vella</td>\n",
       "      <td>el Raval</td>\n",
       "      <td>1</td>\n",
       "      <td>1</td>\n",
       "      <td>1</td>\n",
       "      <td>2015</td>\n",
       "      <td>2015</td>\n",
       "    </tr>\n",
       "    <tr>\n",
       "      <th>1</th>\n",
       "      <td>1</td>\n",
       "      <td>10270.68</td>\n",
       "      <td>Ciutat Vella</td>\n",
       "      <td>el Raval</td>\n",
       "      <td>2</td>\n",
       "      <td>1</td>\n",
       "      <td>2</td>\n",
       "      <td>2015</td>\n",
       "      <td>2015</td>\n",
       "    </tr>\n",
       "    <tr>\n",
       "      <th>2</th>\n",
       "      <td>1</td>\n",
       "      <td>9887.87</td>\n",
       "      <td>Ciutat Vella</td>\n",
       "      <td>el Raval</td>\n",
       "      <td>3</td>\n",
       "      <td>1</td>\n",
       "      <td>3</td>\n",
       "      <td>2015</td>\n",
       "      <td>2015</td>\n",
       "    </tr>\n",
       "    <tr>\n",
       "      <th>3</th>\n",
       "      <td>1</td>\n",
       "      <td>12906.83</td>\n",
       "      <td>Ciutat Vella</td>\n",
       "      <td>el Raval</td>\n",
       "      <td>4</td>\n",
       "      <td>1</td>\n",
       "      <td>4</td>\n",
       "      <td>2015</td>\n",
       "      <td>2015</td>\n",
       "    </tr>\n",
       "    <tr>\n",
       "      <th>4</th>\n",
       "      <td>1</td>\n",
       "      <td>10414.04</td>\n",
       "      <td>Ciutat Vella</td>\n",
       "      <td>el Raval</td>\n",
       "      <td>5</td>\n",
       "      <td>1</td>\n",
       "      <td>5</td>\n",
       "      <td>2015</td>\n",
       "      <td>2015</td>\n",
       "    </tr>\n",
       "  </tbody>\n",
       "</table>\n",
       "</div>"
      ],
      "text/plain": [
       "  Codi_Districte Import_Euros Nom_Districte Nom_Barri Seccio_Censal  \\\n",
       "0              1     12659.06  Ciutat Vella  el Raval             1   \n",
       "1              1     10270.68  Ciutat Vella  el Raval             2   \n",
       "2              1      9887.87  Ciutat Vella  el Raval             3   \n",
       "3              1     12906.83  Ciutat Vella  el Raval             4   \n",
       "4              1     10414.04  Ciutat Vella  el Raval             5   \n",
       "\n",
       "  Codi_Barri  _id   Any  year  \n",
       "0          1    1  2015  2015  \n",
       "1          1    2  2015  2015  \n",
       "2          1    3  2015  2015  \n",
       "3          1    4  2015  2015  \n",
       "4          1    5  2015  2015  "
      ]
     },
     "execution_count": 5,
     "metadata": {},
     "output_type": "execute_result"
    }
   ],
   "source": [
    "all_data.head()"
   ]
  },
  {
   "cell_type": "code",
   "execution_count": 6,
   "metadata": {},
   "outputs": [
    {
     "name": "stdout",
     "output_type": "stream",
     "text": [
      "Codi_Districte    object\n",
      "Import_Euros      object\n",
      "Nom_Districte     object\n",
      "Nom_Barri         object\n",
      "Seccio_Censal     object\n",
      "Codi_Barri        object\n",
      "_id                int64\n",
      "Any               object\n",
      "year              object\n",
      "dtype: object\n"
     ]
    }
   ],
   "source": [
    "print(all_data.dtypes)"
   ]
  },
  {
   "cell_type": "code",
   "execution_count": 7,
   "metadata": {},
   "outputs": [],
   "source": [
    "all_data['Import_Euros'] = pd.to_numeric(all_data['Import_Euros'], errors='coerce')\n",
    "all_data['Any'] = all_data['Any'].astype(int)"
   ]
  },
  {
   "cell_type": "code",
   "execution_count": 8,
   "metadata": {},
   "outputs": [
    {
     "name": "stdout",
     "output_type": "stream",
     "text": [
      "Codi_Districte     object\n",
      "Import_Euros      float64\n",
      "Nom_Districte      object\n",
      "Nom_Barri          object\n",
      "Seccio_Censal      object\n",
      "Codi_Barri         object\n",
      "_id                 int64\n",
      "Any                 int32\n",
      "year               object\n",
      "dtype: object\n"
     ]
    }
   ],
   "source": [
    "print(all_data.dtypes)"
   ]
  },
  {
   "cell_type": "code",
   "execution_count": 9,
   "metadata": {},
   "outputs": [],
   "source": [
    "all_data = all_data[['Codi_Districte', 'Nom_Districte', 'Codi_Barri', 'Nom_Barri', 'Seccio_Censal', 'Any', 'Import_Euros']]\n"
   ]
  },
  {
   "cell_type": "code",
   "execution_count": 10,
   "metadata": {},
   "outputs": [],
   "source": [
    "all_data.to_csv('income_data.csv', index=False)\n"
   ]
  },
  {
   "cell_type": "code",
   "execution_count": 1,
   "metadata": {},
   "outputs": [],
   "source": [
    "import pandas as pd\n",
    "df = pd.read_csv(\"income_data.csv\")"
   ]
  },
  {
   "cell_type": "code",
   "execution_count": 2,
   "metadata": {},
   "outputs": [
    {
     "data": {
      "text/plain": [
       "Index(['Codi_Districte', 'Nom_Districte', 'Codi_Barri', 'Nom_Barri',\n",
       "       'Seccio_Censal', 'Any', 'Import_Euros'],\n",
       "      dtype='object')"
      ]
     },
     "execution_count": 2,
     "metadata": {},
     "output_type": "execute_result"
    }
   ],
   "source": [
    "df.columns"
   ]
  },
  {
   "cell_type": "code",
   "execution_count": null,
   "metadata": {},
   "outputs": [],
   "source": []
  }
 ],
 "metadata": {
  "kernelspec": {
   "display_name": "base",
   "language": "python",
   "name": "python3"
  },
  "language_info": {
   "codemirror_mode": {
    "name": "ipython",
    "version": 3
   },
   "file_extension": ".py",
   "mimetype": "text/x-python",
   "name": "python",
   "nbconvert_exporter": "python",
   "pygments_lexer": "ipython3",
   "version": "3.12.4"
  }
 },
 "nbformat": 4,
 "nbformat_minor": 2
}
